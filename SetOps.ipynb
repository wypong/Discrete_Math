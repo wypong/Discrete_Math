{
 "cells": [
  {
   "cell_type": "markdown",
   "metadata": {
    "slideshow": {
     "slide_type": "notes"
    }
   },
   "source": [
    "$\\newcommand{\\nc}{\\newcommand}$\n",
    "$\\nc{\\Nn}{\\mathbb{N}}$\n",
    "$\\nc{\\Qq}{\\mathbb{Q}}$\n",
    "$\\nc{\\Zz}{\\mathbb{Z}}$\n",
    "$\\nc{\\Rr}{\\mathbb{R}}$\n",
    "$\\nc{\\ol}{\\overline}$"
   ]
  },
  {
   "cell_type": "markdown",
   "metadata": {
    "slideshow": {
     "slide_type": "slide"
    }
   },
   "source": [
    "# Operations on Sets"
   ]
  },
  {
   "cell_type": "markdown",
   "metadata": {
    "slideshow": {
     "slide_type": "slide"
    }
   },
   "source": [
    "## Power Set"
   ]
  },
  {
   "cell_type": "markdown",
   "metadata": {
    "slideshow": {
     "slide_type": "fragment"
    }
   },
   "source": [
    "The **power set** of a set $X$, denoted by $P(X)$ is the *set of all subsets of* $X$."
   ]
  },
  {
   "cell_type": "markdown",
   "metadata": {
    "slideshow": {
     "slide_type": "fragment"
    }
   },
   "source": [
    "That is, $P(X) = \\{Y \\colon Y \\subseteq X\\}$"
   ]
  },
  {
   "cell_type": "markdown",
   "metadata": {
    "slideshow": {
     "slide_type": "fragment"
    }
   },
   "source": [
    "Since $\\emptyset$ is a subset of any set $X$, so the power set of a set is *never empty*. "
   ]
  },
  {
   "cell_type": "markdown",
   "metadata": {
    "slideshow": {
     "slide_type": "subslide"
    }
   },
   "source": [
    "Ex: Write out $P(\\emptyset)$.\n",
    "\n",
    "Ex: Write out $P(\\{0,1,2\\})$. see this section of [ADS](http://faculty.uml.edu/klevasseur/ads/s-cartesian_Products_and_Power_Sets.html) for a computation of power set using [SAGE](https://sagemath.org)."
   ]
  },
  {
   "cell_type": "code",
   "execution_count": 1,
   "metadata": {
    "slideshow": {
     "slide_type": "notes"
    }
   },
   "outputs": [
    {
     "data": {
      "text/plain": [
       "{{}}"
      ]
     },
     "execution_count": 1,
     "metadata": {},
     "output_type": "execute_result"
    }
   ],
   "source": [
    "E = Set(); Set(E.subsets()) #The power set of the emptyset"
   ]
  },
  {
   "cell_type": "code",
   "execution_count": 2,
   "metadata": {
    "slideshow": {
     "slide_type": "notes"
    }
   },
   "outputs": [
    {
     "data": {
      "text/plain": [
       "{{2}, {1, 2}, {0, 1, 2}, {0, 1}, {0, 2}, {1}, {}, {0}}"
      ]
     },
     "execution_count": 2,
     "metadata": {},
     "output_type": "execute_result"
    }
   ],
   "source": [
    "A = Set([0,1,2]); Set(A.subsets()) #The power set of {0,1,2}"
   ]
  },
  {
   "cell_type": "markdown",
   "metadata": {
    "slideshow": {
     "slide_type": "fragment"
    }
   },
   "source": [
    "If $Y \\subseteq X$, then clearly $P(Y) \\subseteq P(X)$. Is the converse true? Why?"
   ]
  },
  {
   "cell_type": "markdown",
   "metadata": {
    "slideshow": {
     "slide_type": "notes"
    }
   },
   "source": [
    "The converse is also true. To see why, take any $a \\in Y$, then $\\{a\\}$ is an element of $P(Y)$. Since $P(Y)$ is a subset of $P(X)$, $\\{a\\} \\in P(X)$. But that just means $\\{a\\} \\subseteq X$ and so $a \\in X$. Since $a \\in Y$, is arbitrary, we conclude that $Y \\subseteq X$."
   ]
  },
  {
   "cell_type": "markdown",
   "metadata": {
    "slideshow": {
     "slide_type": "slide"
    }
   },
   "source": [
    "## Complement"
   ]
  },
  {
   "cell_type": "markdown",
   "metadata": {
    "slideshow": {
     "slide_type": "fragment"
    }
   },
   "source": [
    "The **complement of $Y$ in $X$** denoted by $X \\setminus Y$ is the set\n",
    "\n",
    "$$\\{a \\in X \\colon a \\notin Y\\} $$"
   ]
  },
  {
   "cell_type": "markdown",
   "metadata": {
    "slideshow": {
     "slide_type": "fragment"
    }
   },
   "source": [
    "For instance, let $X = \\{m,a,t,h,e\\}$ and $Y = \\{m,a,t,i,c,s\\}$.\n",
    "\n",
    "Q: What is $X \\setminus Y$ and what is $Y \\setminus X$?"
   ]
  },
  {
   "cell_type": "code",
   "execution_count": 3,
   "metadata": {
    "slideshow": {
     "slide_type": "notes"
    }
   },
   "outputs": [
    {
     "data": {
      "text/plain": [
       "({'h', 'e'}, {'s', 'i', 'c'})"
      ]
     },
     "execution_count": 3,
     "metadata": {},
     "output_type": "execute_result"
    }
   ],
   "source": [
    "X = Set(['m','a','t','h','e']); Y = Set({'m','a','t','i','c','s'});\n",
    "X-Y, Y-X"
   ]
  },
  {
   "cell_type": "markdown",
   "metadata": {
    "slideshow": {
     "slide_type": "fragment"
    }
   },
   "source": [
    "In our mathematics discourse, often there is a set contains all sets of interest. We call it the **universe** and denote it by $U$ "
   ]
  },
  {
   "cell_type": "markdown",
   "metadata": {
    "slideshow": {
     "slide_type": "fragment"
    }
   },
   "source": [
    "In a sense, there is nothing universal about the universe. For number theory the universe maybe $\\Zz$. For computer science the universe maybe the set of all binary strings. "
   ]
  },
  {
   "cell_type": "markdown",
   "metadata": {
    "slideshow": {
     "slide_type": "subslide"
    }
   },
   "source": [
    "If the universe $U$ is understood, we write $\\ol{X}$ for, $U\\setminus X$, the complement of $X$ in $U$.\n",
    "\n",
    "Note that $X^{c}, \\neg X, \\sim X$ are also common notation for $\\ol{X}$."
   ]
  },
  {
   "cell_type": "markdown",
   "metadata": {
    "slideshow": {
     "slide_type": "fragment"
    }
   },
   "source": [
    "For example, if $U = \\Zz$, then $\\ol{\\Nn}$ is the set of negative integers."
   ]
  },
  {
   "cell_type": "markdown",
   "metadata": {
    "slideshow": {
     "slide_type": "fragment"
    }
   },
   "source": [
    "Q: What is $\\ol{X}$ where $X = \\{m,a,t,h,e\\}$ ?"
   ]
  },
  {
   "cell_type": "markdown",
   "metadata": {
    "slideshow": {
     "slide_type": "fragment"
    }
   },
   "source": [
    "Two properties of complement.\n",
    "\n",
    "1. $\\ol{\\ol{X}} = X$\n",
    "1. $Y \\subseteq X \\iff \\ol{X} \\subseteq \\ol{Y}$"
   ]
  },
  {
   "cell_type": "markdown",
   "metadata": {
    "slideshow": {
     "slide_type": "slide"
    }
   },
   "source": [
    "## Union and Intersection"
   ]
  },
  {
   "cell_type": "markdown",
   "metadata": {
    "slideshow": {
     "slide_type": "fragment"
    }
   },
   "source": [
    "Let $X,Y$ be sets.\n",
    "\n",
    "The **union** of $X$ and $Y$ is the set\n",
    "$$ X \\cup Y = \\{a \\colon a \\in X \\text{ or } a \\in Y\\}. $$ \n",
    "The **intersection** of $X$ and $Y$ is the set\n",
    "$$ X \\cap Y = \\{a \\colon a \\in X \\text{ and } a \\in Y\\}.$$"
   ]
  },
  {
   "cell_type": "markdown",
   "metadata": {
    "slideshow": {
     "slide_type": "fragment"
    }
   },
   "source": [
    "For instance, let $X = \\{m,a,t,h,e\\}$ and $Y = \\{m,a,t,i,c,s\\}$.\n",
    "\n",
    "Q: What is $X \\cup Y$? What is $X \\cap Y$?"
   ]
  },
  {
   "cell_type": "code",
   "execution_count": 4,
   "metadata": {
    "slideshow": {
     "slide_type": "notes"
    }
   },
   "outputs": [
    {
     "data": {
      "text/plain": [
       "({'a', 't', 'i', 'c', 'e', 's', 'm', 'h'}, {'a', 'm', 't'})"
      ]
     },
     "execution_count": 4,
     "metadata": {},
     "output_type": "execute_result"
    }
   ],
   "source": [
    "X.union(Y), X.intersection(Y)"
   ]
  },
  {
   "cell_type": "markdown",
   "metadata": {
    "slideshow": {
     "slide_type": "subslide"
    }
   },
   "source": [
    "$X \\cup Y$ is the *smallest* set (in terms of inclusion that contains both $X$ and $Y$, i.e. $X,Y \\subseteq X \\cup Y$ and if $X,Y \\subseteq Z$. then $X \\cup Y \\subseteq Z$."
   ]
  },
  {
   "cell_type": "markdown",
   "metadata": {
    "slideshow": {
     "slide_type": "fragment"
    }
   },
   "source": [
    "Similarly, $X \\cap Y$ is the *largest common subset* (in terms of inclusion) of $X$ and $Y$, i.e. $X \\cap Y \\subseteq X,Y$ and if $Z \\subseteq X,Y$ then $Z \\subseteq X \\cap Y$."
   ]
  },
  {
   "cell_type": "markdown",
   "metadata": {
    "slideshow": {
     "slide_type": "slide"
    }
   },
   "source": [
    "## Properties of Set Operations"
   ]
  },
  {
   "cell_type": "markdown",
   "metadata": {
    "slideshow": {
     "slide_type": "fragment"
    }
   },
   "source": [
    "### Commutative\n",
    "* $X \\cup Y = Y \\cup X$, $X \\cap Y = Y \\cap X$\n",
    "\n",
    "### Associative\n",
    "* $X \\cup (Y \\cup Z) = (X \\cup Y) \\cup Z$, $X \\cap (Y \\cap Z) = (X \\cap Y) \\cap Z$\n",
    "\n",
    "### Distributive\n",
    "* $X \\cap (Y \\cup Z) = (X \\cap Y) \\cup (X \\cap Z)$\n",
    "* $X \\cup (Y \\cap Z) = (X \\cup Y) \\cap (X \\cup Z)$"
   ]
  },
  {
   "cell_type": "markdown",
   "metadata": {
    "slideshow": {
     "slide_type": "subslide"
    }
   },
   "source": [
    "### Implication\n",
    "* $X \\subseteq Y \\implies Z \\cap X \\subseteq Z \\cap Y$\n",
    "* $X \\subseteq Y \\iff X \\cap \\ol{Y} = \\emptyset$"
   ]
  },
  {
   "cell_type": "markdown",
   "metadata": {
    "slideshow": {
     "slide_type": "fragment"
    }
   },
   "source": [
    "### De Morgan's Laws\n",
    "\n",
    "* $\\ol{X \\cup Y} = \\ol{X} \\cap \\ol{Y}$\n",
    "* $\\ol{X \\cap Y} = \\ol{X} \\cup \\ol{Y}$\n",
    "\n",
    "For a proof see p.6 of [these notes](https://math.csudh.edu/~pong/dmn.pdf)"
   ]
  },
  {
   "cell_type": "markdown",
   "metadata": {
    "slideshow": {
     "slide_type": "fragment"
    }
   },
   "source": [
    "An example: Say $A$ for Asians and $B$ for Boys. Then $\\ol{A \\cap B}$ consists of everyone who is not Asian boy, i.e. the person is either not an Asian **or** not a boy. So we see that $\\ol{A \\cap B} = \\ol{A} \\cup \\ol{B}$.    "
   ]
  }
 ],
 "metadata": {
  "celltoolbar": "Slideshow",
  "kernelspec": {
   "display_name": "SageMath 9.1",
   "language": "sage",
   "name": "sagemath"
  },
  "language_info": {
   "codemirror_mode": {
    "name": "ipython",
    "version": 3
   },
   "file_extension": ".py",
   "mimetype": "text/x-python",
   "name": "python",
   "nbconvert_exporter": "python",
   "pygments_lexer": "ipython3",
   "version": "3.7.3"
  },
  "toc": {
   "base_numbering": 1,
   "nav_menu": {},
   "number_sections": false,
   "sideBar": true,
   "skip_h1_title": false,
   "title_cell": "Table of Contents",
   "title_sidebar": "Contents",
   "toc_cell": false,
   "toc_position": {},
   "toc_section_display": true,
   "toc_window_display": false
  }
 },
 "nbformat": 4,
 "nbformat_minor": 4
}
