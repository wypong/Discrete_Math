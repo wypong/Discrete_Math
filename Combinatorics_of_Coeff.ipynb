{
 "cells": [
  {
   "cell_type": "markdown",
   "metadata": {
    "slideshow": {
     "slide_type": "-"
    }
   },
   "source": [
    "# Combinatorics of Coefficients\n",
    "\n",
    "$\\newcommand{\\ds}{\\displaystyle}$"
   ]
  },
  {
   "cell_type": "markdown",
   "metadata": {},
   "source": [
    "We have introduced in [these notes](http://math.csudh.edu/~pong/281Pub/About_coefficients.html) the operator \n",
    "$[x^n]$ on formal power series/polynomial of $x$. \n",
    "\n",
    "One can regard a polynomial as a formal power series with all but finitely many nonzero coefficients."
   ]
  },
  {
   "cell_type": "markdown",
   "metadata": {},
   "source": [
    "$[x^n]A(x) := $ the coefficient of $x^n$ in $A(x)$. \n",
    "\n",
    "E.g. $[x^n](cx^d) = \\begin{cases} c & n = d \\\\ 0 & n \\neq d \\end{cases}$."
   ]
  },
  {
   "cell_type": "markdown",
   "metadata": {},
   "source": [
    "Addition and multiplication of power series translate to:\n",
    "\n",
    "1) $[x^n](A+B)(x) = [x^n]A(x) + [x^n]B(x)$\n",
    "\n",
    "2) $[x^n](AB)(x) = \\sum_{i+j = n} [x^i]A(x) \\cdot [x^j]B(x)$.\n",
    "   \n",
    "   When $B(x) = cx^d$, $[x^n](cx^dA(x)) = c[x^{n-d}]A(x)$. In particular (when $d=0$), $[x^n](cA(x))= c[x^n]A(x)$."
   ]
  },
  {
   "cell_type": "markdown",
   "metadata": {},
   "source": [
    "## Applications\n",
    "\n",
    "The series $1+x+x^2+x^3+\\cdots = \\sum_{n \\ge 0} x^n$ converges to the function $\\dfrac{1}{1-x}$ on $|x| < 1$.\n",
    "\n",
    "We can think of this function as a short-hand for the series since, in our applications, we never evaluate the series at any particular $x$."
   ]
  },
  {
   "cell_type": "markdown",
   "metadata": {},
   "source": [
    "For each $n \\ge 0$, $[x^n]\\dfrac{1}{1-x} = 1$. So, according to (2)"
   ]
  },
  {
   "cell_type": "markdown",
   "metadata": {},
   "source": [
    "$$[x^n]\\dfrac{1}{(1-x)^2} = \\sum_{i_1 + i_2 = n} [x^{i_1}]\\dfrac{1}{1-x} [x^{i_2}]\\dfrac{1}{1-x} = \\sum_{i_1 + i_2 =n} 1$$\n",
    "\n",
    "which is the number of non-negative integer solutions to the equation $x_1 + x_2 = n$, i.e. $\\ds \\binom{n+1}{1}$. "
   ]
  },
  {
   "cell_type": "markdown",
   "metadata": {},
   "source": [
    "This observation generalizes to \n",
    "\n",
    "$$ [x^n]\\frac{1}{(1-x)^d} = \\sum_{i_1 + i_2 + \\ldots + i_d = n} 1 = \\binom{n+d-1}{d-1} \\tag{0} $$\n",
    "\n",
    "which is the number of nonnegative integer solutions to the equation $x_1 + x_2 + \\cdots + x_d = n$."
   ]
  },
  {
   "cell_type": "markdown",
   "metadata": {},
   "source": [
    "We can now easily count the number of solutions to several variants of this equation. \n",
    "\n",
    "For example, the number of solutions to $ x_1 + \\cdots + x_d = n$ with  $x_i \\ge r$ \n",
    "is $\\ds [x^n](x^r + x^{r+1} + \\cdots )^d = [x^n](x^{rd})(1+x+x^2 + \\cdots)^d = [x^n]\\frac{x^{rd}}{(1-x)^d} = [x^{n-rd}]\\frac{1}{(1-x)^d} = \\binom{(n-rd)+d-1}{d-1}$"
   ]
  },
  {
   "cell_type": "markdown",
   "metadata": {},
   "source": [
    "We can also count the number of solutions to $x_1 + \\cdots + x_d = n$ with each $x_i \\le m$ without using PIE."
   ]
  },
  {
   "cell_type": "markdown",
   "metadata": {},
   "source": [
    "The answer is $\\ds [x^n](1+x+x^2 + \\cdots x^m)^d = [x^n]\\frac{(1-x^{m+1})^d}{(1-x)^d}$."
   ]
  },
  {
   "cell_type": "markdown",
   "metadata": {},
   "source": [
    "Instead of expressing this number using the binomial coefficients (I will leave it to you), let me illustrate how things work with a concrete example."
   ]
  },
  {
   "cell_type": "markdown",
   "metadata": {},
   "source": [
    "Suppose we want to find the number of solutions of $x_1 + x_2 + x_3 = 13$ with each $x_i \\le 4$. \n",
    "\n",
    "According to the discussion above, it is the coefficient of $x^{13}$ in \n",
    "$$\\frac{(1-x^5)^3}{(1-x)^3}$$"
   ]
  },
  {
   "cell_type": "markdown",
   "metadata": {},
   "source": [
    "The binomial theorem tells us \n",
    "\n",
    "$$ (1-x^5)^3 =\\sum_{k=0}^3 \\binom{3}{k} (-x^5)^k =  \\sum_{k=0}^3 (-1)^k\\binom{3}{k} x^{5k} = \\binom{3}{0} - \\binom{3}{1}x^5 + \\binom{3}{2}x^{10} + \\cdots \\tag{1}$$\n",
    "\n",
    "We don't care about the last two terms since their degrees (15 and 20, respectively) are $> 13$."
   ]
  },
  {
   "cell_type": "markdown",
   "metadata": {},
   "source": [
    "And we know that \n",
    "$$\n",
    "\\begin{align*}\n",
    "   \\frac{1}{(1-x)^3} &= \\sum_{n \\ge 0} \\binom{n+3-1}{3-1} x^n = \\sum_{n \\ge 0} \\binom{n+2}{2}x^n \\\\\n",
    "   & = \\cdots + \\binom{3+2}{2}x^3 + \\cdots + \\binom{8+2}{2}x^8 + \\cdots + \\binom{13+2}{2}x^{13} + \\cdots \\tag{2}\n",
    "\\end{align*}\n",
    "$$\n",
    "We only care about the coefficients of the displaying terms since we only interested in the coefficient of $x^{13}$ in the product."
   ]
  },
  {
   "cell_type": "markdown",
   "metadata": {},
   "source": [
    "Taking the product of (1) and (2), we get\n",
    "\n",
    "$$[x^{13}]\\frac{(1-x^5)^3}{(1-x)^3} = \\binom{3}{0}\\binom{13+2}{2} - \\binom{3}{1}\\binom{8+2}{2} + \\binom{3}{2}\\binom{3+2}{2}.$$\n",
    "\n",
    "Just the same as we count it by PIE!"
   ]
  },
  {
   "cell_type": "markdown",
   "metadata": {},
   "source": [
    "## Epilogue"
   ]
  },
  {
   "cell_type": "markdown",
   "metadata": {},
   "source": [
    "Using differentiation, we can deduce Equation (0) without using stars-and-bars counting."
   ]
  },
  {
   "cell_type": "markdown",
   "metadata": {},
   "source": [
    "For $A(x) = a_0 + a_1x + a_2 x^2 \\cdots + a_nx^n + a_{n+1}x^{n+1} + \\cdots $,\n",
    "\n",
    "$A'(x) = a_1 + 2a_2x + \\cdots + na_nx^{n-1} + (n+1)a_{n+1}x^n + \\cdots  = \\sum_{n \\ge 0} (n+1)a_{n+1}x^n$. \n",
    "\n",
    "Consequently, \n",
    "$$\n",
    "\\begin{align*}\n",
    "[x^n](A^{(k)}(x)) &= (n+1)[x^{n+1}]A^{(k-1)}(x)\\\\ \n",
    "                &= (n+1)(n+2)[x^{n+2}]A^{(k-2)}(x) = \\cdots \\\\\n",
    "                &= (n+1)(n+2)\\cdots (n+k)[x^{n+k}]A(x) \\\\\n",
    "                &= P(n+k,k)[x^{n+k}]A(x)\n",
    "\\end{align*}\n",
    "$$"
   ]
  },
  {
   "cell_type": "markdown",
   "metadata": {},
   "source": [
    "Apply this to $\\ds A(x) = \\frac{1}{1-x}$ and $k = d-1$, we conclude that\n",
    "$$ [x^n]\\left(\\frac{1}{1-x}\\right)^{(d-1)} = P(n+d-1,d-1)[x^{n+d-1}]\\frac{1}{1-x} = P(n+d-1,d-1) $$"
   ]
  },
  {
   "cell_type": "markdown",
   "metadata": {},
   "source": [
    "On the other hand,\n",
    "\n",
    "$$ [x^n] \\left(\\frac{1}{1-x}\\right)^{(d-1)} = [x^n]\\frac{(d-1)(d-2)\\cdots 1}{(1-x)^d} = (d-1)![x^n]\\frac{1}{(1-x)^d}$$"
   ]
  },
  {
   "cell_type": "markdown",
   "metadata": {},
   "source": [
    "Therefore,\n",
    "$$ [x^n]\\frac{1}{(1-x)^d} = \\frac{P(n+d-1,d-1)}{(d-1)!} = \\binom{n+d-1}{d-1} $$\n",
    "which is exactly Equation (0)."
   ]
  }
 ],
 "metadata": {
  "kernelspec": {
   "display_name": "SageMath 9.2",
   "language": "sage",
   "name": "sagemath"
  },
  "language_info": {
   "codemirror_mode": {
    "name": "ipython",
    "version": 3
   },
   "file_extension": ".py",
   "mimetype": "text/x-python",
   "name": "python",
   "nbconvert_exporter": "python",
   "pygments_lexer": "ipython3",
   "version": "3.8.5"
  },
  "toc": {
   "base_numbering": 1,
   "nav_menu": {},
   "number_sections": false,
   "sideBar": true,
   "skip_h1_title": false,
   "title_cell": "Table of Contents",
   "title_sidebar": "Contents",
   "toc_cell": false,
   "toc_position": {},
   "toc_section_display": true,
   "toc_window_display": false
  }
 },
 "nbformat": 4,
 "nbformat_minor": 4
}
