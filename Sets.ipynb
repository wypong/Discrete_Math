{
 "cells": [
  {
   "cell_type": "markdown",
   "metadata": {
    "slideshow": {
     "slide_type": "notes"
    }
   },
   "source": [
    "$\\newcommand{\\nc}{\\newcommand}$\n",
    "$\\nc{\\Nn}{\\mathbb{N}}$\n",
    "$\\nc{\\Qq}{\\mathbb{Q}}$\n",
    "$\\nc{\\Zz}{\\mathbb{Z}}$\n",
    "$\\nc{\\Rr}{\\mathbb{R}}$"
   ]
  },
  {
   "cell_type": "markdown",
   "metadata": {
    "slideshow": {
     "slide_type": "slide"
    }
   },
   "source": [
    "# Basic Set Theory"
   ]
  },
  {
   "cell_type": "markdown",
   "metadata": {
    "slideshow": {
     "slide_type": "slide"
    }
   },
   "source": [
    "## Sets: the language"
   ]
  },
  {
   "cell_type": "markdown",
   "metadata": {
    "slideshow": {
     "slide_type": "fragment"
    }
   },
   "source": [
    "We talk about mathematics in the language of sets."
   ]
  },
  {
   "cell_type": "markdown",
   "metadata": {
    "slideshow": {
     "slide_type": "fragment"
    }
   },
   "source": [
    "A **set** is just a *collection of objects* of interest."
   ]
  },
  {
   "cell_type": "markdown",
   "metadata": {
    "slideshow": {
     "slide_type": "fragment"
    }
   },
   "source": [
    "Sets are usually denoted by captial letters. The objects in the set are called its **elements** (or members)."
   ]
  },
  {
   "cell_type": "markdown",
   "metadata": {
    "slideshow": {
     "slide_type": "fragment"
    }
   },
   "source": [
    "For example, $S = \\{0,1,2\\}$ is a set with three elements. "
   ]
  },
  {
   "cell_type": "markdown",
   "metadata": {
    "slideshow": {
     "slide_type": "slide"
    }
   },
   "source": [
    "## Membership and Cardinality"
   ]
  },
  {
   "cell_type": "markdown",
   "metadata": {
    "slideshow": {
     "slide_type": "fragment"
    }
   },
   "source": [
    "Write $a \\in X$ to indicate that $a$ is an element of $X$ and write $a \\notin X$ to indicate otherwise."
   ]
  },
  {
   "cell_type": "markdown",
   "metadata": {
    "slideshow": {
     "slide_type": "fragment"
    }
   },
   "source": [
    "So if $S = \\{0,1,2\\}$ then $1 \\in S$ and $4 \\notin S$."
   ]
  },
  {
   "cell_type": "markdown",
   "metadata": {
    "slideshow": {
     "slide_type": "fragment"
    }
   },
   "source": [
    "A set is **finite** if it has finitely many elements, otherwise it is **infinite**."
   ]
  },
  {
   "cell_type": "markdown",
   "metadata": {
    "slideshow": {
     "slide_type": "fragment"
    }
   },
   "source": [
    "Use $|X|$ to denote the **cardinality** of $X$. E.g. $|S| = 3$."
   ]
  },
  {
   "cell_type": "markdown",
   "metadata": {
    "slideshow": {
     "slide_type": "slide"
    }
   },
   "source": [
    "## Set bulider notation"
   ]
  },
  {
   "cell_type": "markdown",
   "metadata": {
    "slideshow": {
     "slide_type": "fragment"
    }
   },
   "source": [
    "Clearly, one cannot list all elements of an infinite set..."
   ]
  },
  {
   "cell_type": "markdown",
   "metadata": {
    "slideshow": {
     "slide_type": "fragment"
    }
   },
   "source": [
    "So we simply assume we know some of them...\n",
    "E.g. \n",
    "$$\n",
    "\\Nn = \\{0,1,2,3,\\ldots\\}\n",
    "$$\n",
    "is the set of natural numbers."
   ]
  },
  {
   "cell_type": "markdown",
   "metadata": {
    "slideshow": {
     "slide_type": "fragment"
    }
   },
   "source": [
    "$\\Zz$ the set of integers, $\\Qq$ the set of rational numbers and $\\Rr$ the set of real numbers."
   ]
  },
  {
   "cell_type": "markdown",
   "metadata": {
    "slideshow": {
     "slide_type": "subslide"
    }
   },
   "source": [
    "With them, we can bulid various other sets. "
   ]
  },
  {
   "cell_type": "markdown",
   "metadata": {
    "slideshow": {
     "slide_type": "fragment"
    }
   },
   "source": [
    "For example\n",
    "$$\n",
    "E = \\{ n \\in \\Nn \\colon n = 2k \\text{ for some } k \\in \\Nn\\}\n",
    "$$\n",
    "is the set of all even (natural) numbers."
   ]
  },
  {
   "cell_type": "markdown",
   "metadata": {
    "slideshow": {
     "slide_type": "fragment"
    }
   },
   "source": [
    "So $E = \\{0,2,4,\\ldots\\}$"
   ]
  },
  {
   "cell_type": "code",
   "execution_count": 1,
   "metadata": {},
   "outputs": [],
   "source": [
    "NN = NonNegativeIntegers(); E = iter(n for n in NN if n%2==0)"
   ]
  },
  {
   "cell_type": "code",
   "execution_count": 2,
   "metadata": {},
   "outputs": [],
   "source": [
    "# [next(E) for n in [1..10]]"
   ]
  },
  {
   "cell_type": "markdown",
   "metadata": {
    "slideshow": {
     "slide_type": "fragment"
    }
   },
   "source": [
    "In general, a set expressed in the **set builder notation** looks like:"
   ]
  },
  {
   "cell_type": "markdown",
   "metadata": {
    "slideshow": {
     "slide_type": "fragment"
    }
   },
   "source": [
    "$$\n",
    "\\{ \\text{symbol for the objects} \\colon \\text{ properties that the objects possess.}\\}\n",
    "$$"
   ]
  },
  {
   "cell_type": "markdown",
   "metadata": {
    "slideshow": {
     "slide_type": "slide"
    }
   },
   "source": [
    "## Subsets"
   ]
  },
  {
   "cell_type": "markdown",
   "metadata": {
    "slideshow": {
     "slide_type": "fragment"
    }
   },
   "source": [
    "A set $Y$ is a **subset** of a set $X$, denoted by $Y \\subseteq X$, if every element of $Y$ is also an element of $X$."
   ]
  },
  {
   "cell_type": "markdown",
   "metadata": {
    "slideshow": {
     "slide_type": "fragment"
    }
   },
   "source": [
    "Two sets $X$ and $Y$ are **equal** if $X \\subseteq Y$ and $Y \\subseteq X$."
   ]
  },
  {
   "cell_type": "markdown",
   "metadata": {
    "slideshow": {
     "slide_type": "fragment"
    }
   },
   "source": [
    "$Y$ is a **proper** subset of $X$, denoted by $Y \\subsetneq X$ (or just $Y \\subset X$) if $Y \\subseteq X$ but $X \\nsubseteq Y$."
   ]
  },
  {
   "cell_type": "markdown",
   "metadata": {
    "slideshow": {
     "slide_type": "fragment"
    }
   },
   "source": [
    "Consequently, the order of listing of the elements of a set does not matter. "
   ]
  },
  {
   "cell_type": "markdown",
   "metadata": {
    "slideshow": {
     "slide_type": "fragment"
    }
   },
   "source": [
    "For example. \n",
    "$$\n",
    "\\{2,3,5,7\\} = \\{5,3,7,2\\} = \\{n \\in \\Nn \\colon\\ \\text{$n$ is a prime that $<$ 10} \\}. \n",
    "$$"
   ]
  },
  {
   "cell_type": "code",
   "execution_count": 3,
   "metadata": {},
   "outputs": [
    {
     "data": {
      "text/html": [
       "<html>\\[\\newcommand{\\Bold}[1]{\\mathbf{#1}}\\mathrm{True}\\]</html>"
      ],
      "text/latex": [
       "$$\\newcommand{\\Bold}[1]{\\mathbf{#1}}\\mathrm{True}$$"
      ],
      "text/plain": [
       "True"
      ]
     },
     "execution_count": 3,
     "metadata": {},
     "output_type": "execute_result"
    }
   ],
   "source": [
    "Set([2,3,5,7])==Set([5,3,7,2])==Set([n for n in [0..10] if is_prime(n)])"
   ]
  },
  {
   "cell_type": "markdown",
   "metadata": {
    "slideshow": {
     "slide_type": "slide"
    }
   },
   "source": [
    "That also means that there is a unique *set with no elements* called the **empty set** denoted by \n",
    "\n",
    "$$\n",
    "\\emptyset \\quad \\text{or} \\quad \\{ \\}\n",
    "$$"
   ]
  },
  {
   "cell_type": "markdown",
   "metadata": {
    "slideshow": {
     "slide_type": "fragment"
    }
   },
   "source": [
    "While the empty set has no elements, itself can surely be an element of some other set. "
   ]
  },
  {
   "cell_type": "markdown",
   "metadata": {
    "slideshow": {
     "slide_type": "fragment"
    }
   },
   "source": [
    "For example, $\\emptyset \\not\\in \\emptyset$ but $\\emptyset \\in \\{\\emptyset\\}$. So $\\emptyset$ and $\\{\\emptyset\\}$ are two ***different sets***. In particular, the former has no elments and the latter has one element, namely $\\emptyset$."
   ]
  },
  {
   "cell_type": "markdown",
   "metadata": {
    "slideshow": {
     "slide_type": "fragment"
    }
   },
   "source": [
    "### Some Basic Properties of $\\subseteq$\n",
    "\n",
    "0. $\\emptyset \\subseteq X$.\n",
    "1. $X \\subseteq X$\n",
    "1. $X \\subseteq Y$ and $Y \\subseteq X$, then $X=Y$.\n",
    "1. $X \\subseteq Y$ and $Y \\subseteq Z$, then $X \\subseteq Z$"
   ]
  }
 ],
 "metadata": {
  "celltoolbar": "Slideshow",
  "kernelspec": {
   "display_name": "SageMath 9.4",
   "language": "sage",
   "name": "sagemath"
  },
  "language_info": {
   "codemirror_mode": {
    "name": "ipython",
    "version": 3
   },
   "file_extension": ".py",
   "mimetype": "text/x-python",
   "name": "python",
   "nbconvert_exporter": "python",
   "pygments_lexer": "ipython3",
   "version": "3.9.5"
  }
 },
 "nbformat": 4,
 "nbformat_minor": 4
}
