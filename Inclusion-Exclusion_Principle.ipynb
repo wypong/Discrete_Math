{
 "cells": [
  {
   "cell_type": "markdown",
   "metadata": {},
   "source": [
    "# Principle of Inclusion-Exclusion (PIE)"
   ]
  },
  {
   "cell_type": "markdown",
   "metadata": {},
   "source": [
    "The principle express the size of the union of a family of sets as alternating sums of the sizes of the intersections of its subfamilies. "
   ]
  },
  {
   "cell_type": "markdown",
   "metadata": {},
   "source": [
    "The simpliest case (non-trivial) case of the principle is when $n$ the size of the family is two."
   ]
  },
  {
   "cell_type": "markdown",
   "metadata": {},
   "source": [
    "$$|A_1 \\cup A_2| = |A_1| + |A_2| - |A_1 \\cap A_2|$$"
   ]
  },
  {
   "cell_type": "markdown",
   "metadata": {},
   "source": [
    "The Venn diagram suggests that $|A_1| + |A_2|$ is an overcount of $|A_1 \\cup A_2|$ since the \"middle part\" $|A_1 \\cap A_2$ is double counted in the sum and hence should be taken out from it.\n",
    "\n",
    "The next simpliest case is when $n=3$."
   ]
  },
  {
   "cell_type": "markdown",
   "metadata": {},
   "source": [
    "$$ |A_1 \\cup A_2 \\cup A_3| = |A_1| + |A_2| + |A_3| - |A_1 \\cap A_2| -|A_2 \\cap A_3| - |A_3 \\cap A_1| + |A_1 \\cap A_2 \\cap A_3|$$"
   ]
  },
  {
   "cell_type": "markdown",
   "metadata": {},
   "source": [
    "As above the pairwise intersection $|A_j \\cap A_k|$ should be taken out from the sum $\\sum |A_i|$ but if we take them out then the elements in the triple intersection is not counted at all hence we have to add it back."
   ]
  },
  {
   "cell_type": "markdown",
   "metadata": {},
   "source": [
    "To simplify the expression of this principle in the general case, we introduce the following notation"
   ]
  },
  {
   "cell_type": "markdown",
   "metadata": {},
   "source": [
    "Let $[n] = \\{1, 2 \\ldots, n\\}$ for $I \\subseteq [n]$, let $A_I = \\bigcap_{i \\in I} A_i$."
   ]
  },
  {
   "cell_type": "markdown",
   "metadata": {},
   "source": [
    "For examples, if $I = \\{2,3\\} (\\subseteq \\{1,2,3\\})$, then $A_I = A_2 \\cap A_3$. If $I = \\{1,2,3\\}$ then $A_I = A_1 \\cap A_2 \\cap A_3$. "
   ]
  },
  {
   "cell_type": "markdown",
   "metadata": {},
   "source": [
    "For example, with this notation the case $n=3$ is written as ($I$ runs through the subsets of $[3]$)\n",
    "\n",
    "\\begin{align*}\n",
    "    |A_1 \\cup A_2 \\cup A_3| & = |A_1| + |A_2| + |A_3| - |A_{12}| - |A_{23}| -|A_{13}| + |A_{123}|\\\\ \n",
    "    &= \\sum_{|I| = 1} |A_I| - \\sum_{|I|=2} |A_I| + \\sum_{|I|=3} |A_I| = \\sum_{k \\in [3]} (-1)^{k-1} \\sum_{|I|=k} |A_I|\n",
    "\\end{align*}"
   ]
  },
  {
   "cell_type": "markdown",
   "metadata": {},
   "source": [
    "By adopting the convention $A_{\\emptyset} = \\bigcap_{i \\in \\emptyset} A_i = \\bigcup_{i \\in [n]} A_i$, the principle can be beautifully expressed as:"
   ]
  },
  {
   "cell_type": "markdown",
   "metadata": {},
   "source": [
    "**Inclusion-Exclusion Principle**\n",
    "\n",
    "$$\\sum_{I \\subseteq [n]} (-1)^{|I|} |A_I| = 0 $$"
   ]
  },
  {
   "cell_type": "markdown",
   "metadata": {},
   "source": [
    "$$\\newcommand{\\mb}{\\mathbf}$$"
   ]
  },
  {
   "cell_type": "markdown",
   "metadata": {},
   "source": [
    "## Proof"
   ]
  },
  {
   "cell_type": "markdown",
   "metadata": {},
   "source": [
    "Here we present an algebraic proof of the principle. More details and applications of the principle (PIE) can be found in this wikipedia [page](https://en.wikipedia.org/wiki/Inclusion%E2%80%93exclusion_principle)"
   ]
  },
  {
   "cell_type": "markdown",
   "metadata": {},
   "source": [
    "Let $X$ be a set, the **indicator function** of a subset $S$ of $X$ is the function $\\mb{1}_S \\colon X \\to \\{0,1\\}$ defined by $\\mathbf{1}_S(x) = \\begin{cases} 1 & x \\in S \\\\ 0 & x \\notin S \\end{cases}$. "
   ]
  },
  {
   "cell_type": "markdown",
   "metadata": {},
   "source": [
    "For $S,T \\subseteq X$, note that $\\mb{1}_{S \\cap T} = \\mb{1}_S \\cdot \\mb{1}_T = \\min( \\mb{1}_S, \\mb{1}_T)$, $\\mb{1}_{S \\cup T} = \\max ( \\mb{1}_S, \\mb{1}_T )$, $\\mb{1}_{\\bar{S}} = \\mb{1}_X - \\mb{1}_S$ and\n",
    "\n",
    "$|S| = \\sum_{x \\in X} \\mb{1}_S(x)$."
   ]
  },
  {
   "cell_type": "markdown",
   "metadata": {},
   "source": [
    "Since $A_{\\emptyset} = \\bigcup_{i=1}^n A_{i}$, so \n",
    "\n",
    "$$\\emptyset = A_{\\emptyset} \\setminus \\bigcup_{i=1}^n A_i = \\bigcap_{i=1}^n A_{\\emptyset} \\setminus A_i$$"
   ]
  },
  {
   "cell_type": "markdown",
   "metadata": {},
   "source": [
    "Note that $\\mb{1}_{A_{\\emptyset}}$ is simply the function $\\mb{1}$ that is constantly $1$ on $A_{\\emptyset}$. Thus, we conclude that \n",
    "$$ 0 = \\mb{1}_{\\emptyset} = (\\mb{1} - \\mb{1}_{A_1})(\\mb{1} - \\mb{1}_{A_2})\\cdots(\\mb{1} - \\mb{1}_{A_n}) $$"
   ]
  },
  {
   "cell_type": "markdown",
   "metadata": {},
   "source": [
    "Expanding the right-side of the above equation, we get\n",
    "$$ 0 = \\sum_{I \\subseteq[n]} (-1)^{|I|}\\mb{1}_{A_I} $$"
   ]
  },
  {
   "cell_type": "markdown",
   "metadata": {},
   "source": [
    "and we obtain the PIE by taking summation over all $x \\in A_{\\emptyset}$ on both sides."
   ]
  }
 ],
 "metadata": {
  "kernelspec": {
   "display_name": "SageMath 9.1",
   "language": "sage",
   "name": "sagemath"
  },
  "language_info": {
   "codemirror_mode": {
    "name": "ipython",
    "version": 3
   },
   "file_extension": ".py",
   "mimetype": "text/x-python",
   "name": "python",
   "nbconvert_exporter": "python",
   "pygments_lexer": "ipython3",
   "version": "3.7.3"
  },
  "toc": {
   "base_numbering": 1,
   "nav_menu": {},
   "number_sections": false,
   "sideBar": true,
   "skip_h1_title": false,
   "title_cell": "Table of Contents",
   "title_sidebar": "Contents",
   "toc_cell": false,
   "toc_position": {},
   "toc_section_display": true,
   "toc_window_display": false
  }
 },
 "nbformat": 4,
 "nbformat_minor": 4
}
