{
 "cells": [
  {
   "cell_type": "markdown",
   "metadata": {
    "slideshow": {
     "slide_type": "-"
    }
   },
   "source": [
    "# Polynomial Sequences"
   ]
  },
  {
   "cell_type": "markdown",
   "metadata": {},
   "source": [
    "$\\newcommand{\\ds}{\\displaystyle}$"
   ]
  },
  {
   "cell_type": "markdown",
   "metadata": {},
   "source": [
    "A sequence $a_0, a_1, a_2, \\ldots$ is **represented** by a polynomial $P(x)$ if $a_n = P(n)$ for all $n \\ge 0$."
   ]
  },
  {
   "cell_type": "markdown",
   "metadata": {},
   "source": [
    "We say that sequence $(a_n)$ is **degree $k$-polynomial** if it is represented by some degree $k$ polynomial $P(x)$. In particular, degree $0$-polynomial sequences are precisely the constant sequences. \n",
    "\n",
    "A sequence is **polynomial** if it is **degree $k$-polynomial** for some $k \\ge 0$."
   ]
  },
  {
   "cell_type": "markdown",
   "metadata": {},
   "source": [
    "**Example** For a fix $k \\ge 0$, the sequence $\\displaystyle \\binom{n}{k}$ is represented by the degree-$k$ polynomial \n",
    "\n",
    "$$\\binom{x}{k} = \\frac{1}{k!}x(x-1) \\cdots (x-k+1) $$"
   ]
  },
  {
   "cell_type": "markdown",
   "metadata": {},
   "source": [
    "Note that $\\ds \\binom{n}{0}=1$ is the constant sequence $1,1,1,1...$ and $\\ds \\binom{n}{1}=n : 1,2,3,4, \\ldots$."
   ]
  },
  {
   "cell_type": "markdown",
   "metadata": {},
   "source": [
    "We define the **difference operator** $\\Delta$ on sequences by $(\\Delta a)_n = a_{n+1} - a_n$ ($n \\ge 0$)\n",
    "\n",
    "The sequence $\\Delta a$ is called the **$1st$ difference** of the sequence $a$"
   ]
  },
  {
   "cell_type": "markdown",
   "metadata": {},
   "source": [
    "The **0-th difference** of $a$ is $a$ itself and for $k \\ge 1$, we define the **$k$-th difference** $\\Delta^k a$ of $a$ to be the 1-st difference of $\\Delta^{k-1} a$."
   ]
  },
  {
   "cell_type": "markdown",
   "metadata": {},
   "source": [
    "**Example** \n",
    "\n",
    "\\begin{align*}\n",
    "   \\binom{n}{2} &\\colon  0, 1, 3, 6, 10, 15, 21, \\ldots \\\\\n",
    "   \\Delta\\binom{n}{2} &\\colon 1,2,3,4,5,6,\\ldots \\\\\n",
    "   \\Delta^2\\binom{n}{2} &\\colon 1,1,1,1,1,\\ldots \n",
    "\\end{align*}\n",
    "\n",
    "In general,\n",
    "$\\ds \\Delta \\binom{n}{k} = \\binom{n+1}{k} - \\binom{n}{k} = \\binom{n}{k-1}$ "
   ]
  },
  {
   "cell_type": "markdown",
   "metadata": {},
   "source": [
    "A sequence $a$ is **$\\Delta^k$-constant** if $\\Delta^k a$ is a constant sequence. For example, we have just seen that $\\ds \\binom{n}{2}$ is a $\\Delta^2$-constant sequence."
   ]
  },
  {
   "cell_type": "markdown",
   "metadata": {},
   "source": [
    "Likewise, we define the **difference operator**, also denoted by $\\Delta$ on polynomials, by $(\\Delta P)(x) = P(x+1) - P(x)$ and define $\\Delta^k$ similarly. \n",
    "\n",
    "It is clear that if $P$ represents $a$ then $\\Delta P$ represent $\\Delta a$."
   ]
  },
  {
   "cell_type": "markdown",
   "metadata": {},
   "source": [
    "Note the similarity of $\\Delta$ with the differential operator $d/dx$. In fact, "
   ]
  },
  {
   "cell_type": "markdown",
   "metadata": {},
   "source": [
    "$\\Delta$ is linear, i.e. $\\Delta(cP(x) + Q(x)) = c\\Delta P(x) + \\Delta Q(x)$ for constant $c$ and polynomials $P,Q$."
   ]
  },
  {
   "cell_type": "markdown",
   "metadata": {},
   "source": [
    "Since $\\ds \\Delta x^k = (x+1)^k - x^k = x^k + \\binom{k}{1} x^{k-1} + \\binom{k}{2} x^{k-2} + \\cdots - x^k = \\binom{k}{1}x^{k-1} +  \\binom{k}{2} x^{k-2} + \\cdots$,\n",
    "\n",
    "$\\deg \\Delta P = \\deg P -1$. Consequently, $\\Delta^k P$ is a constant polynomial for any degree $k$ polynomial $P$."
   ]
  },
  {
   "cell_type": "markdown",
   "metadata": {},
   "source": [
    "The family $\\ds \\binom{x}{k}$ $(k \\ge 0)$ of polynomials behaves particularly nice under $\\ds \\Delta$: $\\ds \\Delta \\binom{x}{k} = \\binom{x}{k-1}$. (Note that $\\ds \\binom{x}{0} \\equiv 1$ and $\\ds \\binom{x}{-1} \\equiv 0$).\n",
    "\n",
    "The family of polynomials $\\ds \\left(\\binom{x}{k} \\colon k \\ge 0 \\right)$ is the discrete analog of the family of functions $\\ds \\left(\\frac{x^k}{k!} \\colon k \\ge 0\\right)$."
   ]
  },
  {
   "cell_type": "markdown",
   "metadata": {},
   "source": [
    "We can now state our main theorem."
   ]
  },
  {
   "cell_type": "markdown",
   "metadata": {},
   "source": [
    "**Theorem.** A sequence $a$ is $\\Delta^k$-constant if and only if it is degree $k$-polynomial. \n",
    "\n",
    "More precisely, $a$ is $\\Delta^k$-constant if and only if it is represented by the degree $k$ polynomial\n",
    "\n",
    "$$ P_a(x) = \\sum_{i = 0}^k (\\Delta^i a)_0 \\binom{x}{i}=(\\Delta^k a)_0 \\binom{x}{k} + (\\Delta^{k-1} a)_0\\binom{x}{k-1} + \\cdots + (\\Delta^1 a)_0\\binom{x}{1} + (\\Delta^0 a)_0\\binom{x}{0}.$$ "
   ]
  },
  {
   "cell_type": "markdown",
   "metadata": {},
   "source": [
    "To prove this, we need a lemma."
   ]
  },
  {
   "cell_type": "markdown",
   "metadata": {},
   "source": [
    "**Lemma** Let $p$ be a polynomial and $a$ be a sequence such that $\\Delta P$ represents $\\Delta a$, then $P+c$ represents $a$ where $c = a_0 - P(0)$. In particular, if $P(0) = a_0$, then $P$ represents $a$."
   ]
  },
  {
   "cell_type": "markdown",
   "metadata": {},
   "source": [
    "**Proof.** Since $\\Delta P$ represent $\\Delta a$, $P(k+1) - P(k) = (\\Delta P)(k) = (\\Delta a)_k = a_{k+1}-a_k$ for each $k \\ge 0$. Now for any $n \\ge 1$, summing up these equations for $k$ running from 0 to $n-1$, we get \n",
    "\n",
    "$$ P(n) - P(0) = \\sum_{k=0}^{n-1} P(k+1) - P(k) = \\sum_{k=0}^{n-1} a_{k+1}-a_k = a_n - a_0. $$\n",
    "\n",
    "Therefore, $a_n = P(n) +(a_0-P(0))$ for $n \\ge 1$ and the equation clearly holds for $n=0$. So the proof is completed."
   ]
  },
  {
   "cell_type": "markdown",
   "metadata": {},
   "source": [
    "Now we can prove the theorem."
   ]
  },
  {
   "cell_type": "markdown",
   "metadata": {},
   "source": [
    "**Proof of the theorem.** First, suppose $a$ is represented by a degree $k$ polynomial $P$. Then $\\Delta^k a$ is a constant sequence because it is represented by $\\Delta^k P$ which is a constant polynomial since its degree is 0. \n",
    "\n",
    "Conversely, suppose $a$ is $\\Delta^k$-constant. We will show, by induction, that $a$ is represented by $p_a(x)$. When $k=0$, then $a$ is just the constant squence $(a_0)$ and $p_a(x)$ has only one term namely $\\ds (\\Delta^0 a)\\binom{x}{0} = (a_0)(1) = a_0$. Thus, the statement is true for $k=0$. Suppose for some $k \\ge 1$, any $\\Delta^{k-1}$-constant sequence $b$ is represented by $p_b(x)$. Let $a$ be a $\\Delta^k$-constant sequence. We need to show that it is represented by $P_a(x)$. Note that"
   ]
  },
  {
   "cell_type": "markdown",
   "metadata": {},
   "source": [
    "$$\n",
    "\\begin{align*}\n",
    "\\Delta P_a(x) &= \\Delta \\left( (\\Delta^k a)_0\\binom{x}{k} + (\\Delta^{k-1} a)\\binom{x}{k-1} + \\cdots + (\\Delta^1 a)_0\\binom{x}{1} + (\\Delta^0 a)_0\\binom{x}{0}\\right) \\\\\n",
    "& = (\\Delta^k a)_0\\binom{x}{k-1} + (\\Delta^{k-1} a)\\binom{x}{k-2} + \\cdots + (\\Delta^2 a)_0\\binom{x}{1}+ (\\Delta^1 a)_0\\binom{x}{0}  \\\\ \n",
    "& = (\\Delta^{k-1} \\Delta a)_0\\binom{x}{k-1} + (\\Delta^{k-2} \\Delta a)\\binom{x}{k-2} + \\cdots + (\\Delta^1 \\Delta a)_0\\binom{x}{1}+ (\\Delta^0 \\Delta a)_0\\binom{x}{0} = P_{\\Delta a}(x).\n",
    "\\end{align*}\n",
    "$$"
   ]
  },
  {
   "cell_type": "markdown",
   "metadata": {},
   "source": [
    "So by the induction hypothesis implies $P_{\\Delta a}(x)$, and hence $\\Delta P_a(x)$, represents $\\Delta a$ because it is $\\Delta^{k-1}$-constant. Moreover, $\\ds P_a(0) = \\sum_{i = 0}^k (\\Delta^i a)_0 \\binom{0}{i} = (\\Delta^0 a)_0 = a_0$. Thus, it follows from the lemma that $P_a(x)$ represents the sequence $a$ and the proof of the theorem is completed."
   ]
  },
  {
   "cell_type": "markdown",
   "metadata": {},
   "source": [
    "**Example.** Consider the sequence $h$ that begins with:\n",
    "\n",
    "$$ \\mathbf{0},1, 6, 15, 28, 45, 66, 91, 120, 153,\\ldots $$\n"
   ]
  },
  {
   "cell_type": "markdown",
   "metadata": {},
   "source": [
    "Then $(\\Delta h)$ begins with:\n",
    "\n",
    "$$ \\mathbf{1}, 5, 9, 13, 17, 21, 25, 29, 33,\\ldots $$"
   ]
  },
  {
   "cell_type": "markdown",
   "metadata": {},
   "source": [
    "And $\\Delta^2 h$ is the constant sequence $\\mathbf{4},4,4,4,4,4, \\ldots$.\n",
    "\n",
    "Here $(\\Delta^i a)_0$ ($i=0,1,2)$ are **bold-faced**."
   ]
  },
  {
   "cell_type": "markdown",
   "metadata": {},
   "source": [
    "Thus, $h$ is $\\Delta^2$-constant and hence, according to the theorem, is represented by \n",
    "\n",
    "$$ \n",
    "\\begin{align*}\n",
    "   &(\\Delta^2 a)_0 \\binom{x}{2} + (\\Delta a)_0 \\binom{x}{1} + (\\Delta^0 a)_0 \\binom{x}{0} \\\\ \n",
    "   &= \\mathbf{4}\\binom{x}{2} + \\mathbf{1}\\binom{x}{1} + \\mathbf{0}\\binom{x}{0} \\\\\n",
    "   &= 4\\frac{x(x-1)}{2} + x = 2(x^2 -x) + x = 2x^2 -x = x(2x-1).\n",
    "\\end{align*}   \n",
    "$$"
   ]
  },
  {
   "cell_type": "markdown",
   "metadata": {},
   "source": [
    "N.B. $h_n$ is the $n$-hexgonal number."
   ]
  },
  {
   "cell_type": "markdown",
   "metadata": {},
   "source": [
    "**Exercise.** Find the polynomial that represents the sequence\n",
    "\n",
    "$$ s_n = 1^3 + 3^3 + 5^3 + \\cdots + (2n+1)^3 $$"
   ]
  }
 ],
 "metadata": {
  "kernelspec": {
   "display_name": "SageMath 9.2",
   "language": "sage",
   "name": "sagemath"
  },
  "language_info": {
   "codemirror_mode": {
    "name": "ipython",
    "version": 3
   },
   "file_extension": ".py",
   "mimetype": "text/x-python",
   "name": "python",
   "nbconvert_exporter": "python",
   "pygments_lexer": "ipython3",
   "version": "3.8.5"
  },
  "toc": {
   "base_numbering": 1,
   "nav_menu": {},
   "number_sections": false,
   "sideBar": true,
   "skip_h1_title": false,
   "title_cell": "Table of Contents",
   "title_sidebar": "Contents",
   "toc_cell": false,
   "toc_position": {},
   "toc_section_display": true,
   "toc_window_display": false
  }
 },
 "nbformat": 4,
 "nbformat_minor": 4
}
