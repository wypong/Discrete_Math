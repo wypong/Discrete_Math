{
 "cells": [
  {
   "cell_type": "markdown",
   "metadata": {
    "slideshow": {
     "slide_type": "notes"
    }
   },
   "source": [
    "$\\newcommand{\\nc}{\\newcommand}$\n",
    "$\\nc{\\Nn}{\\mathbb{N}}$\n",
    "$\\nc{\\Qq}{\\mathbb{Q}}$\n",
    "$\\nc{\\Zz}{\\mathbb{Z}}$\n",
    "$\\nc{\\Rr}{\\mathbb{R}}$\n",
    "$\\nc{\\ple}{\\preceq}$\n",
    "$\\nc{\\DMO}{\\DeclareMathOperator}$\n",
    "$\\DMO{\\dom}{dom}$\n",
    "$\\DMO{\\rng}{rng}$"
   ]
  },
  {
   "cell_type": "markdown",
   "metadata": {
    "slideshow": {
     "slide_type": "slide"
    }
   },
   "source": [
    "# Partial Orders"
   ]
  },
  {
   "cell_type": "markdown",
   "metadata": {
    "slideshow": {
     "slide_type": "fragment"
    }
   },
   "source": [
    "A **partial order** on a set $X$ is a relaion on $X$ that is ***reflexive, transitive and anti-symmetric***."
   ]
  },
  {
   "cell_type": "markdown",
   "metadata": {
    "slideshow": {
     "slide_type": "fragment"
    }
   },
   "source": [
    "A **partially ordered set** (or a **poset**) is a set equipped with a partial order on it."
   ]
  },
  {
   "cell_type": "markdown",
   "metadata": {
    "slideshow": {
     "slide_type": "fragment"
    }
   },
   "source": [
    "We often use $\\ple_X$ or simply $\\ple$ to denote a partial order on $X$."
   ]
  },
  {
   "cell_type": "markdown",
   "metadata": {
    "slideshow": {
     "slide_type": "fragment"
    }
   },
   "source": [
    "This serves as a reminder that partial orders are generalization of the usual \\' *less than or equal to* \\` relation on real numbers."
   ]
  },
  {
   "cell_type": "markdown",
   "metadata": {
    "slideshow": {
     "slide_type": "slide"
    }
   },
   "source": [
    "### Examples"
   ]
  },
  {
   "cell_type": "markdown",
   "metadata": {
    "slideshow": {
     "slide_type": "fragment"
    }
   },
   "source": [
    "1. **Divisibility** on $\\Nn \\setminus\\{0\\}$"
   ]
  },
  {
   "cell_type": "markdown",
   "metadata": {
    "slideshow": {
     "slide_type": "fragment"
    }
   },
   "source": [
    "2. **Subset relation** $\\subseteq$ on $P(X)$."
   ]
  },
  {
   "cell_type": "markdown",
   "metadata": {
    "slideshow": {
     "slide_type": "fragment"
    }
   },
   "source": [
    "**Question.** Is divisibility a partial order on $\\Nn$? On $\\Zz$?"
   ]
  },
  {
   "cell_type": "markdown",
   "metadata": {
    "slideshow": {
     "slide_type": "slide"
    }
   },
   "source": [
    "3. Let $\\Sigma$ be a non-empty set and $\\Sigma^*$ be the set of all finite sequences on $\\Sigma$.\n",
    "   \n",
    "   The relation $\\sqsubseteq$ on $\\Sigma^*$ given by $u \\sqsubseteq v$ if $u$ is an **initial segment** of $v$, i.e. $uw = v$ for some $w \\in \\Sigma^*$, is a partial order on $\\Sigma^*$. "
   ]
  },
  {
   "cell_type": "markdown",
   "metadata": {
    "slideshow": {
     "slide_type": "slide"
    }
   },
   "source": [
    "## Comparability, Chains and Anti-chains"
   ]
  },
  {
   "cell_type": "markdown",
   "metadata": {
    "slideshow": {
     "slide_type": "fragment"
    }
   },
   "source": [
    "Two element $x,x'$ in a poset $(X, \\ple)$ are **$\\ple$-comparable** (or simply **comparable**) if either $x \\ple x'$ or $x' \\ple x$."
   ]
  },
  {
   "cell_type": "markdown",
   "metadata": {
    "slideshow": {
     "slide_type": "fragment"
    }
   },
   "source": [
    "A subset $C$ of $X$ is a **chain** if $x$ and $x'$ are comparable for any $x,x' \\in C$."
   ]
  },
  {
   "cell_type": "markdown",
   "metadata": {
    "slideshow": {
     "slide_type": "fragment"
    }
   },
   "source": [
    "A subset $A$ of $X$ is an **anti-chain** if no two $x,x' \\in A$ are comparable."
   ]
  },
  {
   "cell_type": "markdown",
   "metadata": {
    "slideshow": {
     "slide_type": "subslide"
    }
   },
   "source": [
    "We sometime refer the size of a chain (resp. an antichain) its **length**."
   ]
  },
  {
   "cell_type": "markdown",
   "metadata": {
    "slideshow": {
     "slide_type": "fragment"
    }
   },
   "source": [
    "**Ex.** Give a chain and an antichain of length 4 in each of the poset above (choose $X$ and $\\Sigma$ suitably)."
   ]
  },
  {
   "cell_type": "markdown",
   "metadata": {
    "slideshow": {
     "slide_type": "slide"
    }
   },
   "source": [
    "## Hasses Diagram"
   ]
  },
  {
   "cell_type": "markdown",
   "metadata": {
    "slideshow": {
     "slide_type": "fragment"
    }
   },
   "source": [
    "We have seen that very relation on a set $X$ can be represented by a directed graph with elements of $X$ as vertices. The same applies to partial orders."
   ]
  },
  {
   "cell_type": "markdown",
   "metadata": {
    "slideshow": {
     "slide_type": "fragment"
    }
   },
   "source": [
    "Since a partial order is anti-symmetric, the corresponding graph is a **directed acyclic graph** (or DAG in short)."
   ]
  },
  {
   "cell_type": "markdown",
   "metadata": {
    "slideshow": {
     "slide_type": "fragment"
    }
   },
   "source": [
    "If there is a directed cycle, that means there are two distinct elements $a,b$ of the poset, so that $a \\ple b$ and $b \\ple a$, contradicting the anti-symmetric property. "
   ]
  },
  {
   "cell_type": "markdown",
   "metadata": {
    "slideshow": {
     "slide_type": "subslide"
    }
   },
   "source": [
    "Moreover, one can take advantages of the definition properties of partial order to *simplify* the representation."
   ]
  },
  {
   "cell_type": "markdown",
   "metadata": {
    "slideshow": {
     "slide_type": "fragment"
    }
   },
   "source": [
    "* Since a partial order is reflexive, we can drop all the loops.\n",
    "\n",
    "* Since a partial order is transitive, we only need to draw all \"essential\" arrow."
   ]
  },
  {
   "cell_type": "markdown",
   "metadata": {
    "slideshow": {
     "slide_type": "subslide"
    }
   },
   "source": [
    "If we have $a \\to b$ and $b \\to c$ then we know that $a \\to c$ must be in the graph and  so we can drop it. \n",
    "\n",
    "In other words, we just need to indicate those $a \\to b$ in the graph where this is no $x$ so that $a \\ple x$ and $x \\ple b$."
   ]
  },
  {
   "cell_type": "markdown",
   "metadata": {},
   "source": [
    "* Finally, if we arrange the elements so that the position of $a$ is lower than the position of $b$ whenever $a \\ple b$, then we can replace the arcs (arrows) by edges. (Note it **does not mean** if the position of $b$ is higher than the position of $a$ then $a \\ple b$) \n",
    "\n",
    "The result diagram the **Hasses diagram** for the poset."
   ]
  },
  {
   "cell_type": "code",
   "execution_count": 1,
   "metadata": {
    "slideshow": {
     "slide_type": "skip"
    }
   },
   "outputs": [],
   "source": [
    "%load_ext tikzmagic"
   ]
  },
  {
   "cell_type": "code",
   "execution_count": 2,
   "metadata": {
    "slideshow": {
     "slide_type": "skip"
    }
   },
   "outputs": [
    {
     "data": {
      "image/png": "[encoded data removed]"
     },
     "metadata": {},
     "output_type": "display_data"
    }
   ],
   "source": [
    "%%tikz  \n",
    "        \\node (X) at (-2,2) {$X =$};\n",
    "        \\node (a) at (0,0) {$\\bullet a$};\n",
    "        \\node (b) at (-1,1) {$\\bullet b$};\n",
    "        \\node (c) at (0,1) {$\\bullet c$};\n",
    "        \\node (d) at (1,1) {$\\bullet d$};\n",
    "        \\node (e) at (-1,2) {$\\bullet e$};\n",
    "        \\node (f) at (0,2) {$\\bullet f$};\n",
    "        \\node (g) at (1,2) {$\\bullet g$};\n",
    "        \\node (h) at (0,3) {$\\bullet h$};\n",
    "        \\node (i) at (1,3) {$\\bullet i$};\n",
    "        \\node (j) at (0,4) {$\\bullet j$};\n",
    "    \\draw (a) -- (c);\n",
    "    \\draw (b) -- (e) -- (h) -- (j);\n",
    "    \\draw (b) -- (f) -- (h);\n",
    "    \\draw (c) -- (f) --(i); \\draw (c) -- (g) -- (i) -- (j);\n",
    "    \\draw (d) -- (g);\n",
    "    \\draw[preaction={draw=white, -, line width=5pt}] (c) -- (e);"
   ]
  },
  {
   "attachments": {
    "image-2.png": {
     "image/png": "[encoded data removed]"
    }
   },
   "cell_type": "markdown",
   "metadata": {
    "slideshow": {
     "slide_type": "slide"
    }
   },
   "source": [
    "Here is an example \n",
    "\n",
    "![image-2.png](attachment:image-2.png)"
   ]
  },
  {
   "cell_type": "markdown",
   "metadata": {
    "slideshow": {
     "slide_type": "slide"
    }
   },
   "source": [
    "Here are few important concepts involving posets. Let $Y$ be a subset of a poset $(X,\\ple)$.\n",
    "See my [notes](https://math.csudh.edu/~pong/dmn.pdf) for more details."
   ]
  },
  {
   "cell_type": "markdown",
   "metadata": {
    "slideshow": {
     "slide_type": "fragment"
    }
   },
   "source": [
    "* An element $a$ of $Y$ is the **greatest (resp. least) element of $Y$** if for any $y \\in Y$, $y\\preceq a$ (resp.   $a \\preceq y$).\n",
    "\n",
    "* An element $a$ of $Y$ is a **maximal (resp. minimal) element} of $Y$**\n",
    "  if for any $y \\in Y$, $a \\preceq y$ (resp. $y \\preceq a$) implies $a=y$.\n",
    "\n",
    "* An element of $b$ of $X$ is an **upper (resp. a lower) bound** of $Y$\n",
    "  if $y \\preceq b$ ($b \\preceq y$) for every $y \\in Y$.\n",
    "\n",
    "* An element of $s$ of $X$ is a **supremum (resp. an infimum)** of $Y$ if $s$ is the least (resp. greatest)\n",
    "  if element of the set of upper (resp. lower) bounds of $Y$. We use $\\sup Y$ and $\\inf Y$ to denote the supremum   and infimum of $Y$ (if exist), respectively.\n",
    "  \n",
    "Supremum and infimum in a poset are also known as **join** and **meet**, respectively.\n",
    "See [this wiki page](https://en.wikipedia.org/wiki/Join_and_meet) for more details."
   ]
  },
  {
   "attachments": {
    "image.png": {
     "image/png": "[encoded data removed]"
    }
   },
   "cell_type": "markdown",
   "metadata": {
    "slideshow": {
     "slide_type": "slide"
    }
   },
   "source": [
    "![image.png](attachment:image.png)"
   ]
  },
  {
   "cell_type": "markdown",
   "metadata": {
    "slideshow": {
     "slide_type": "fragment"
    }
   },
   "source": [
    "* What are the minimal (maximal) elements of the subset $\\{a,b,c\\}$?\n",
    "* What are the upper bounds of the subset $\\{e,f,g\\}$? What are the inf and sup (if any).\n",
    "* What the greatest (least) element (if any) of this poset?\n",
    "* What is the sup and inf (if any) of $\\emptyset$?"
   ]
  },
  {
   "cell_type": "markdown",
   "metadata": {
    "slideshow": {
     "slide_type": "slide"
    }
   },
   "source": [
    "## Total (linear) Orders and Well Orders"
   ]
  },
  {
   "cell_type": "markdown",
   "metadata": {
    "slideshow": {
     "slide_type": "fragment"
    }
   },
   "source": [
    "A partial order $\\ple$ on $X$ is a **total order** (or **linear order**) if any two elements of $X$ are $\\ple$-comparable. A **totally ordered set** (or **linearly ordered set**) is a set equipped with a total order.\n",
    "\n",
    "A poset $(X, \\ple)$ is a totally ordered set if and only if $X$ itself is a chain."
   ]
  },
  {
   "cell_type": "markdown",
   "metadata": {
    "slideshow": {
     "slide_type": "fragment"
    }
   },
   "source": [
    "**Ex.** Give some examples of totally ordered set."
   ]
  },
  {
   "cell_type": "markdown",
   "metadata": {
    "slideshow": {
     "slide_type": "subslide"
    }
   },
   "source": [
    "A partial order $\\ple$ on $X$ is a **well order** if any nonempty subset of $X$ has the least element.\n",
    "A **well ordered** set is a set equipped with a well order on it."
   ]
  },
  {
   "cell_type": "markdown",
   "metadata": {
    "slideshow": {
     "slide_type": "fragment"
    }
   },
   "source": [
    "A well order must be a total order. (Why?)"
   ]
  },
  {
   "cell_type": "markdown",
   "metadata": {
    "slideshow": {
     "slide_type": "fragment"
    }
   },
   "source": [
    "**Ex.** Give some examples of totally orders that are not well orders. And give some examples of well orders."
   ]
  },
  {
   "cell_type": "markdown",
   "metadata": {
    "slideshow": {
     "slide_type": "slide"
    }
   },
   "source": [
    "## Embeddings of Orders"
   ]
  },
  {
   "cell_type": "markdown",
   "metadata": {
    "slideshow": {
     "slide_type": "fragment"
    }
   },
   "source": [
    "Let $(X, \\ple)$ and $(X', \\ple')$ be posets. A map from $X$ to $X'$ is an **embedding** of $(X, \\ple)$ into $(X' \\ple')$ if\n",
    "\n",
    "1.  $f$ is injective, and\n",
    "1.  $f(x) \\ple' f(y)$ if and only if $x \\ple y$\n",
    "\n",
    "A surjective embedding of posets is an **isomorphism** of posets. "
   ]
  },
  {
   "cell_type": "markdown",
   "metadata": {
    "slideshow": {
     "slide_type": "fragment"
    }
   },
   "source": [
    "Intuitively, isomorphic posets means they (their Hasses diagrams) \"look the same\"."
   ]
  },
  {
   "cell_type": "code",
   "execution_count": 3,
   "metadata": {
    "slideshow": {
     "slide_type": "skip"
    }
   },
   "outputs": [],
   "source": [
    "from sage.combinat.posets.posets import FinitePoset"
   ]
  },
  {
   "cell_type": "code",
   "execution_count": 4,
   "metadata": {
    "slideshow": {
     "slide_type": "skip"
    }
   },
   "outputs": [],
   "source": [
    "d1 = {1:[2],3:[]}; P1 = FinitePoset(DiGraph(d1));\n",
    "d2 = {'t':['u','v'],'v':['x'],'u':['y'],'x':['z'],'w':['y']}; P2 = FinitePoset(DiGraph(d2))"
   ]
  },
  {
   "cell_type": "markdown",
   "metadata": {
    "slideshow": {
     "slide_type": "slide"
    }
   },
   "source": [
    "Consider the following posets"
   ]
  },
  {
   "cell_type": "code",
   "execution_count": 5,
   "metadata": {
    "slideshow": {
     "slide_type": "-"
    }
   },
   "outputs": [
    {
     "data": {
      "image/png": "[encoded data removed]",
      "text/plain": [
       "Graphics Array of size 1 x 2"
      ]
     },
     "metadata": {},
     "output_type": "display_data"
    }
   ],
   "source": [
    "graphics_array([P1.plot(title=\"P1\"), P2.plot(title=\"P2\")]).show(figsize=[3,3])"
   ]
  },
  {
   "cell_type": "markdown",
   "metadata": {
    "slideshow": {
     "slide_type": "fragment"
    }
   },
   "source": [
    "Give some embeddings from $P_1$ into $P_2$."
   ]
  },
  {
   "cell_type": "markdown",
   "metadata": {
    "slideshow": {
     "slide_type": "slide"
    }
   },
   "source": [
    "**Theorem.** The map from $(X, \\ple)$ to $(P(X), \\subseteq)$ given by $x \\mapsto \\downarrow x = \\{y \\in X \\colon y \\ple x\\}$ is an embedding of posets.\n",
    "\n",
    "This is the **down-set** embedding of $(X, \\ple)$."
   ]
  },
  {
   "cell_type": "markdown",
   "metadata": {
    "slideshow": {
     "slide_type": "fragment"
    }
   },
   "source": [
    "**Corollary.** Every *finite poset* can be embedded in $(\\Nn\\setminus\\{0\\}, \\mid)$."
   ]
  },
  {
   "cell_type": "markdown",
   "metadata": {
    "slideshow": {
     "slide_type": "fragment"
    }
   },
   "source": [
    "**Hint.** By the theorem above all one needs to show is that for any finite $X$ , the poset $(P(X) \\subseteq)$  is embeddable into  $(\\Nn\\setminus\\{0\\}, \\mid)$.\n",
    "\n",
    "Select a small $X$ , draw out $(P(X), \\subseteq)$ and the \"lower\" part of $(\\Nn\\setminus\\{0\\}, \\mid)$. Then you will see how the embedding work."
   ]
  },
  {
   "cell_type": "markdown",
   "metadata": {
    "slideshow": {
     "slide_type": "slide"
    }
   },
   "source": [
    " **Exercise.** i) Find the down-set embedding of the following poset. ii) Embed it into $(\\Nn, \\mid)$."
   ]
  },
  {
   "cell_type": "code",
   "execution_count": 6,
   "metadata": {
    "slideshow": {
     "slide_type": "skip"
    }
   },
   "outputs": [],
   "source": [
    "dp = {'a':['c'],'b':['c','d'],'c':['e']}; gp = DiGraph(dp); P = FinitePoset(gp)"
   ]
  },
  {
   "cell_type": "code",
   "execution_count": 7,
   "metadata": {},
   "outputs": [
    {
     "data": {
      "image/png": "[encoded data removed]",
      "text/plain": [
       "Graphics object consisting of 10 graphics primitives"
      ]
     },
     "execution_count": 7,
     "metadata": {},
     "output_type": "execute_result"
    }
   ],
   "source": [
    "P.plot(figsize=5)"
   ]
  }
 ],
 "metadata": {
  "celltoolbar": "Slideshow",
  "kernelspec": {
   "display_name": "SageMath 9.1",
   "language": "sage",
   "name": "sagemath"
  },
  "language_info": {
   "codemirror_mode": {
    "name": "ipython",
    "version": 3
   },
   "file_extension": ".py",
   "mimetype": "text/x-python",
   "name": "python",
   "nbconvert_exporter": "python",
   "pygments_lexer": "ipython3",
   "version": "3.7.3"
  },
  "toc": {
   "base_numbering": 1,
   "nav_menu": {},
   "number_sections": false,
   "sideBar": true,
   "skip_h1_title": false,
   "title_cell": "Table of Contents",
   "title_sidebar": "Contents",
   "toc_cell": false,
   "toc_position": {},
   "toc_section_display": true,
   "toc_window_display": false
  }
 },
 "nbformat": 4,
 "nbformat_minor": 4
}
