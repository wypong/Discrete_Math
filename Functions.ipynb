{
 "cells": [
  {
   "cell_type": "markdown",
   "metadata": {
    "slideshow": {
     "slide_type": "notes"
    }
   },
   "source": [
    "$\\newcommand{\\nc}{\\newcommand}$\n",
    "$\\nc{\\Nn}{\\mathbb{N}}$\n",
    "$\\nc{\\Qq}{\\mathbb{Q}}$\n",
    "$\\nc{\\Zz}{\\mathbb{Z}}$\n",
    "$\\nc{\\Rr}{\\mathbb{R}}$\n",
    "$\\nc{\\DMO}{\\DeclareMathOperator}$\n",
    "$\\DMO{\\dom}{dom}$\n",
    "$\\DMO{\\cod}{codomain}$\n",
    "$\\DMO{\\rng}{rng}$"
   ]
  },
  {
   "cell_type": "markdown",
   "metadata": {
    "slideshow": {
     "slide_type": "slide"
    }
   },
   "source": [
    "# Functions"
   ]
  },
  {
   "cell_type": "markdown",
   "metadata": {
    "slideshow": {
     "slide_type": "slide"
    }
   },
   "source": [
    "A **function** is a *relation* $(X,Y,f)$ with the property that for every $a \\in X$ $(a,b) \\in f$ for some unique $b \\in Y$. "
   ]
  },
  {
   "cell_type": "markdown",
   "metadata": {
    "slideshow": {
     "slide_type": "fragment"
    }
   },
   "source": [
    "Since a function is a particular kind of relation, any notion applicable to relations, like domain, range, composition, etc, are applicable to functions as well."
   ]
  },
  {
   "cell_type": "markdown",
   "metadata": {
    "slideshow": {
     "slide_type": "fragment"
    }
   },
   "source": [
    "We usually write $f \\colon X \\to Y$ and call it by its graph $f$ for the function $(X,Y,f)$. \n",
    "\n",
    "We call $X$ the **domain** of $f$ and $Y$ the **codomain** of $f$."
   ]
  },
  {
   "cell_type": "markdown",
   "metadata": {
    "slideshow": {
     "slide_type": "fragment"
    }
   },
   "source": [
    "For $a \\in X$, the unique $b \\in Y$ so that $(a,b) \\in f$ is called the **image of $a$ under $f$** and we denote this by $f(a) = b$."
   ]
  },
  {
   "cell_type": "markdown",
   "metadata": {
    "slideshow": {
     "slide_type": "slide"
    }
   },
   "source": [
    "**Examples.**\n",
    "\n",
    "* $f \\colon \\text{People} \\to \\text{People}, f(x) = \\text{father of } x$ \n",
    "* $m \\colon \\text{People} \\to \\text{People}, m(x) = \\text{mother of } x$\n",
    "* For $Y \\subseteq X$, let $i_Y^X= \\iota \\colon Y \\to X$ be defined by $i(a) =a$. \n",
    "This is the **inclusion from $Y$ to $X$**, \n",
    "* For $Y \\subseteq X$, let $\\chi_Y \\colon X \\to \\{0,1\\}$ be defined by \n",
    "$\\chi_Y(a) = \\begin{cases} 0 & a \\notin Y; \\\\ 1 & a \\in Y \\end{cases}$\n",
    "This is called the **indicator function of $Y$ (in $X$)**\n",
    "* $\\pi_X \\colon X \\times Y \\to X$, $\\pi_X(a,b) = a$ \n",
    "* $\\pi_Y \\colon X \\times Y \\to Y$, $\\pi_Y(a,b) = b$."
   ]
  },
  {
   "cell_type": "markdown",
   "metadata": {
    "slideshow": {
     "slide_type": "fragment"
    }
   },
   "source": [
    "**Notation.** The set of functions from $X$ to $Y$ is denoted by $Y^X$."
   ]
  },
  {
   "cell_type": "markdown",
   "metadata": {
    "slideshow": {
     "slide_type": "subslide"
    }
   },
   "source": [
    "## Describing functions\n",
    "\n",
    "See [this section](http://discrete.openmathbooks.org/dmoi3/sec_intro-functions.html) of DMOI."
   ]
  },
  {
   "cell_type": "markdown",
   "metadata": {
    "slideshow": {
     "slide_type": "slide"
    }
   },
   "source": [
    "## Image and Pre-image (inverse image)"
   ]
  },
  {
   "cell_type": "markdown",
   "metadata": {
    "slideshow": {
     "slide_type": "fragment"
    }
   },
   "source": [
    "Let $f \\colon X \\to Y$ and $A \\subseteq X$, $B \\subseteq Y$."
   ]
  },
  {
   "cell_type": "markdown",
   "metadata": {
    "slideshow": {
     "slide_type": "fragment"
    }
   },
   "source": [
    "The **image of $A$ under $f$** is the set $f(A) = \\{ f(a) \\in Y \\colon a \\in A\\}$.\n",
    "\n",
    "The **pre-image of $B$ under $f$** is the set $f^{-1}(B) = \\{ a \\in X \\colon f(a) \\in B\\}$."
   ]
  },
  {
   "cell_type": "markdown",
   "metadata": {
    "slideshow": {
     "slide_type": "fragment"
    }
   },
   "source": [
    "In particular, $f(X) = \\rng f$ and $f^{-1}(Y) = X$."
   ]
  },
  {
   "cell_type": "markdown",
   "metadata": {
    "slideshow": {
     "slide_type": "slide"
    }
   },
   "source": [
    "Let $f \\colon \\Rr \\to \\Rr$ be the square function, i.e. $f(x) = x^2$. "
   ]
  },
  {
   "cell_type": "markdown",
   "metadata": {
    "slideshow": {
     "slide_type": "fragment"
    }
   },
   "source": [
    "**Q.** What are $f(2)$, $f(\\{2\\})$, $f^{-1}(\\{2\\})$, $f^{-1}(\\{0\\})$, $f^{-1}(\\{-1\\})$?"
   ]
  },
  {
   "cell_type": "markdown",
   "metadata": {
    "slideshow": {
     "slide_type": "fragment"
    }
   },
   "source": [
    "**Q.** What are $f([0,1])$?, $f([-1,1])$?, $f^{-1}([0,1])$, $f^{-1}([-1,1])$ "
   ]
  },
  {
   "cell_type": "markdown",
   "metadata": {
    "slideshow": {
     "slide_type": "slide"
    }
   },
   "source": [
    "It is clear that both taking image and taking pre-image *preserve* inclusion: \n",
    "\n",
    "$A^\\prime \\subseteq A$ implies $f(A^\\prime) \\subseteq f(A)$\n",
    "\n",
    "$B^\\prime \\subseteq B$ implies $f^{-1}(B^\\prime) \\subseteq f^{-1}(B)$."
   ]
  },
  {
   "cell_type": "markdown",
   "metadata": {
    "slideshow": {
     "slide_type": "fragment"
    }
   },
   "source": [
    "Also, $f^{-1}(f(A)) \\subseteq A$ and $f(f^{-1}(B)) \\subseteq B$."
   ]
  },
  {
   "cell_type": "markdown",
   "metadata": {
    "slideshow": {
     "slide_type": "fragment"
    }
   },
   "source": [
    "But in general the equalities do not hold (give examples). When would the equalities hold?"
   ]
  },
  {
   "cell_type": "markdown",
   "metadata": {
    "slideshow": {
     "slide_type": "slide"
    }
   },
   "source": [
    "## Composition"
   ]
  },
  {
   "cell_type": "markdown",
   "metadata": {
    "slideshow": {
     "slide_type": "fragment"
    }
   },
   "source": [
    "**Proposition 1.** Composition of two functions is a function. More precisely, if $f,g$ are functions and $\\cod f \\subset \\dom g$ then $g\\circ f$ is a function from the domain of $f$ to the codomain of $g$."
   ]
  },
  {
   "cell_type": "markdown",
   "metadata": {
    "slideshow": {
     "slide_type": "subslide"
    }
   },
   "source": [
    "**Proof.** Suppose $f \\colon X \\to Y$ and $g \\colon Y \\to Z$. Take any $a \\in X$, there is a $b \\in Y$ and for that $b \\in Y$, there is a $c \\in Z$ such that $(a,b) \\in f$ and $(b,c) \\in g$. Therefore, $(a,c) \\in g \\circ f$."
   ]
  },
  {
   "cell_type": "markdown",
   "metadata": {
    "slideshow": {
     "slide_type": "fragment"
    }
   },
   "source": [
    "Now suppose $c_1,c_2 \\in Z$ such that $(a,c_1),(a,c_2) \\in g \\circ f$. \n",
    "\n",
    "Then there exist $b_1, b_2 \\in Y$ such that $(a, b_1), (a,b_2) \\in f$ with $(b_i, c_i) \\in g$ ($i=1,2$)."
   ]
  },
  {
   "cell_type": "markdown",
   "metadata": {
    "slideshow": {
     "slide_type": "fragment"
    }
   },
   "source": [
    "Since $f$ is a function, $b_1 = b_2$ (let's call it $b$). So $(b,c_1), (b,c_2) \\in g$."
   ]
  },
  {
   "cell_type": "markdown",
   "metadata": {
    "slideshow": {
     "slide_type": "fragment"
    }
   },
   "source": [
    "And now using the fact that $g$ is a function, we conclude that $c_1 = c_2$. This completes the proof."
   ]
  },
  {
   "cell_type": "markdown",
   "metadata": {
    "slideshow": {
     "slide_type": "slide"
    }
   },
   "source": [
    "## Properties of Composition"
   ]
  },
  {
   "cell_type": "markdown",
   "metadata": {
    "slideshow": {
     "slide_type": "fragment"
    }
   },
   "source": [
    "Since composition of relations is **associative**, so is composition of functions.\n",
    "\n",
    "i.e. $h \\circ (g\\circ f) = (h\\circ g) \\circ f$. Therefore, it is unambiguous to write $f_n \\circ \\cdots f_2 \\circ f_1$."
   ]
  },
  {
   "cell_type": "markdown",
   "metadata": {
    "slideshow": {
     "slide_type": "fragment"
    }
   },
   "source": [
    "However, function (relation) composition is **not commutative**."
   ]
  },
  {
   "cell_type": "markdown",
   "metadata": {
    "slideshow": {
     "slide_type": "fragment"
    }
   },
   "source": [
    "**Q.** Let $f(x)$ be the father of $x$ and $m(x)$ be the mother of $x$. \n",
    "\n",
    "How does $f \\circ m(x)$ relate to $x$? How about $m \\circ f(x)$?"
   ]
  },
  {
   "cell_type": "markdown",
   "metadata": {
    "slideshow": {
     "slide_type": "slide"
    }
   },
   "source": [
    "## Inverses"
   ]
  },
  {
   "cell_type": "markdown",
   "metadata": {
    "slideshow": {
     "slide_type": "fragment"
    }
   },
   "source": [
    "The *inverse relation* ($f^{-1}$) of a function $f \\colon X \\to Y$ needs *not* be a function from $Y$ to $X$ for two reasons:"
   ]
  },
  {
   "cell_type": "markdown",
   "metadata": {
    "slideshow": {
     "slide_type": "fragment"
    }
   },
   "source": [
    "1. $\\rng f = \\dom f^{-1}$ needs not be $Y$.\n",
    "2. There maybe $a,a' \\in X$ and $b \\in Y$ with $(a,b), (a',b) \\in f$. \n",
    "   That means $(b,a),(b,a') \\in f^{-1}$. "
   ]
  },
  {
   "cell_type": "markdown",
   "metadata": {
    "slideshow": {
     "slide_type": "fragment"
    }
   },
   "source": [
    "**Q.** When is the inverse relation of a function a function?"
   ]
  },
  {
   "cell_type": "markdown",
   "metadata": {
    "slideshow": {
     "slide_type": "slide"
    }
   },
   "source": [
    "## Injective (one-to-one) and Surjective (onto)"
   ]
  },
  {
   "cell_type": "markdown",
   "metadata": {
    "slideshow": {
     "slide_type": "fragment"
    }
   },
   "source": [
    "A function $f \\colon X \\to Y$ is:\n",
    "\n",
    "* **surjective** (or **onto** or a **surjection**) if $\\rng f = Y$.\n",
    "* **injective** (or **1-to-1** or an **injection**) if no two elements in $X$ map to the same element in $Y$.\n",
    "\n",
    "  in other words, $f(a_1) = f(a_2) \\implies a_1 = a_2$ for any $a_1,a_2 \\in X$."
   ]
  },
  {
   "cell_type": "markdown",
   "metadata": {
    "slideshow": {
     "slide_type": "fragment"
    }
   },
   "source": [
    "A function is **bijective** (or a **bijection**) if it is *both* injective and surjective."
   ]
  },
  {
   "cell_type": "markdown",
   "metadata": {
    "slideshow": {
     "slide_type": "subslide"
    }
   },
   "source": [
    "**Proposition 2.** The inverse relation $f^{-1}$ of a function $f$ is a function if and only if $f$ is a bijection."
   ]
  },
  {
   "cell_type": "markdown",
   "metadata": {
    "slideshow": {
     "slide_type": "fragment"
    }
   },
   "source": [
    "**Q.** Discuss the injectivity and surjectivity of these functions.\n",
    "\n",
    "$f \\colon \\Rr \\to \\Rr, f(x) = x^2$\n",
    "\n",
    "$g \\colon [0,\\infty) \\to \\Rr, g(x) = x^2$\n",
    "\n",
    "$h \\colon [0,\\infty) \\to [0,\\infty), h(x) = x^2$"
   ]
  },
  {
   "cell_type": "markdown",
   "metadata": {
    "slideshow": {
     "slide_type": "slide"
    }
   },
   "source": [
    "## Permutations"
   ]
  },
  {
   "cell_type": "markdown",
   "metadata": {
    "slideshow": {
     "slide_type": "fragment"
    }
   },
   "source": [
    "A bijection of $X$ to itself is called a **permutation** of $X$."
   ]
  },
  {
   "cell_type": "markdown",
   "metadata": {
    "slideshow": {
     "slide_type": "fragment"
    }
   },
   "source": [
    "The set of permutations of $X$, denoted by $S(X)$, form a [group](https://en.wikipedia.org/wiki/Group_(mathematics)) under composition of functions. It is called the **[symmetric group](https://en.wikipedia.org/wiki/Symmetric_group) on $X$**.\n"
   ]
  },
  {
   "cell_type": "markdown",
   "metadata": {
    "slideshow": {
     "slide_type": "fragment"
    }
   },
   "source": [
    "**Cycle notation** of permutation, [ref 1](http://faculty.uml.edu/klevasseur/ads/s-permutation-groups.html#ss-cycle-notation) and [ref 2](http://www.math.caltech.edu/~2015-16/1term/ma006a/17.%20More%20permutations.pdf) if we have time."
   ]
  }
 ],
 "metadata": {
  "celltoolbar": "Slideshow",
  "kernelspec": {
   "display_name": "SageMath 9.1",
   "language": "sage",
   "name": "sagemath"
  },
  "language_info": {
   "codemirror_mode": {
    "name": "ipython",
    "version": 3
   },
   "file_extension": ".py",
   "mimetype": "text/x-python",
   "name": "python",
   "nbconvert_exporter": "python",
   "pygments_lexer": "ipython3",
   "version": "3.7.3"
  },
  "toc": {
   "base_numbering": 1,
   "nav_menu": {},
   "number_sections": false,
   "sideBar": true,
   "skip_h1_title": false,
   "title_cell": "Table of Contents",
   "title_sidebar": "Contents",
   "toc_cell": false,
   "toc_position": {},
   "toc_section_display": true,
   "toc_window_display": false
  }
 },
 "nbformat": 4,
 "nbformat_minor": 4
}
