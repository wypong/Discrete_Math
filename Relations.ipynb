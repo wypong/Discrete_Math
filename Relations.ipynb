{
 "cells": [
  {
   "cell_type": "markdown",
   "metadata": {
    "slideshow": {
     "slide_type": "notes"
    }
   },
   "source": [
    "$\\newcommand{\\nc}{\\newcommand}$\n",
    "$\\nc{\\Nn}{\\mathbb{N}}$\n",
    "$\\nc{\\Qq}{\\mathbb{Q}}$\n",
    "$\\nc{\\Zz}{\\mathbb{Z}}$\n",
    "$\\nc{\\Rr}{\\mathbb{R}}$\n",
    "$\\nc{\\DMO}{\\DeclareMathOperator}$\n",
    "$\\DMO{\\dom}{dom}$\n",
    "$\\DMO{\\rng}{rng}$"
   ]
  },
  {
   "cell_type": "markdown",
   "metadata": {
    "slideshow": {
     "slide_type": "slide"
    }
   },
   "source": [
    "# Relations"
   ]
  },
  {
   "cell_type": "markdown",
   "metadata": {
    "slideshow": {
     "slide_type": "slide"
    }
   },
   "source": [
    "## Relations\n",
    "\n",
    "A **relation** is a triple $(X,Y,R)$ where $R$ is a subset of $X \\times Y$. $R$ is called the **graph** of the relation."
   ]
  },
  {
   "cell_type": "markdown",
   "metadata": {
    "slideshow": {
     "slide_type": "fragment"
    }
   },
   "source": [
    "We often refer to the relation by its graph and say that _\"$R$ is a **relation from $X$ to $Y$** \"_. "
   ]
  },
  {
   "cell_type": "markdown",
   "metadata": {
    "slideshow": {
     "slide_type": "fragment"
    }
   },
   "source": [
    "A relation from $X$ to itself is called a **relation on** $X$."
   ]
  },
  {
   "cell_type": "markdown",
   "metadata": {
    "slideshow": {
     "slide_type": "subslide"
    }
   },
   "source": [
    "**Examples.** $\\emptyset$ and $X \\times Y$ are relations from $X$ to $Y$."
   ]
  },
  {
   "cell_type": "markdown",
   "metadata": {
    "slideshow": {
     "slide_type": "fragment"
    }
   },
   "source": [
    "Let $R$ be a relation from $X$ to $Y$. For $(a,b)$ in $R$, we think of _\"$a$ is related to $b$ by $R$_\".\n",
    "or _\"$a$ is in relation $R$ with $b$\"_. "
   ]
  },
  {
   "cell_type": "markdown",
   "metadata": {
    "slideshow": {
     "slide_type": "fragment"
    }
   },
   "source": [
    "Often we write $a R b$ for $(a,b) \\in R$.\n",
    "\n",
    "E.g. $(1,2) \\in <$, and we often just write $1 < 2$."
   ]
  },
  {
   "cell_type": "markdown",
   "metadata": {
    "slideshow": {
     "slide_type": "fragment"
    }
   },
   "source": [
    "The **domain** of $R$, $\\dom R$, is the set $\\{a \\in X \\colon \\exists b \\in Y, (a,b) \\in R\\}$ \n",
    "\n",
    "The **range** of $R$, $\\rng R$, is the set $\\{b \\in Y \\colon \\exists a \\in X, (a,b) \\in R\\}$.\n",
    "\n",
    "E.g. $(x,y) \\in F$ if and only if $y$ is the father of $x$. $X = People = Y$"
   ]
  },
  {
   "cell_type": "markdown",
   "metadata": {
    "slideshow": {
     "slide_type": "slide"
    }
   },
   "source": [
    "**Example.** Let $X = \\{0,1,2\\}$ and $Y = \\{a,b\\}$. Then $R = \\{(0,b),(2,a), (0,a)\\}$ is a relation from $X$ to $Y$."
   ]
  },
  {
   "cell_type": "markdown",
   "metadata": {
    "slideshow": {
     "slide_type": "fragment"
    }
   },
   "source": [
    "**Q.** What are the domain and the range of $R$?"
   ]
  },
  {
   "cell_type": "markdown",
   "metadata": {
    "slideshow": {
     "slide_type": "notes"
    }
   },
   "source": [
    "**A.** $\\dom R = \\{0,2\\}$ and $\\rng R = \\{a,b\\}$"
   ]
  },
  {
   "cell_type": "markdown",
   "metadata": {
    "slideshow": {
     "slide_type": "fragment"
    }
   },
   "source": [
    "**Q.** Give an example from $X$ to $Y$ other than the one given above."
   ]
  },
  {
   "cell_type": "markdown",
   "metadata": {
    "slideshow": {
     "slide_type": "notes"
    }
   },
   "source": [
    "E.g. $S = \\{(1,b), (1,a)\\}$ is a relation from $X$ to $Y$ other than the given $R$."
   ]
  },
  {
   "cell_type": "markdown",
   "metadata": {
    "slideshow": {
     "slide_type": "fragment"
    }
   },
   "source": [
    "**Q.** How many relations from $X$ to $Y$ are there?"
   ]
  },
  {
   "cell_type": "markdown",
   "metadata": {
    "slideshow": {
     "slide_type": "notes"
    }
   },
   "source": [
    "**A.** $|P(X\\times Y)| = 2^{|X \\times Y|}  = 2^{|X||Y|}$."
   ]
  },
  {
   "cell_type": "markdown",
   "metadata": {
    "slideshow": {
     "slide_type": "slide"
    }
   },
   "source": [
    "**Example.** Consider the relation *divisible* on $\\Zz$. We write $a\\mid b$ if $b = ac$ for some $c \\in \\Zz$. \n",
    "\n",
    "So $3 \\mid 6$ and $2 \\mid 6$, $2 \\not\\mid 5$ and $5 \\not\\mid 2$. Both $-1 \\mid 1$ and $1 \\mid -1$."
   ]
  },
  {
   "cell_type": "markdown",
   "metadata": {
    "slideshow": {
     "slide_type": "fragment"
    }
   },
   "source": [
    "**Example.** Let $R$ be the relation on $\\Zz$ defined by $a R b$ if $a^2 = b^2$."
   ]
  },
  {
   "cell_type": "markdown",
   "metadata": {
    "slideshow": {
     "slide_type": "slide"
    }
   },
   "source": [
    "## Composition of Relations"
   ]
  },
  {
   "cell_type": "markdown",
   "metadata": {
    "slideshow": {
     "slide_type": "fragment"
    }
   },
   "source": [
    "Let $R \\subseteq X \\times Y$ and $S \\subseteq Y \\times Z$, then the **composition of $R$ and $S$** is the relation\n",
    "\n",
    "$$\n",
    "\\{ (a,c) \\in X \\times Z \\colon (a,b) \\in R \\text{ and } (b,c) \\in S \\text{ for some $b \\in Y$.} \\}\n",
    "$$\n",
    "\n",
    "This relation is denoted either by $RS$ or $S \\circ R$. (see [ADS](http://faculty.uml.edu/klevasseur/ads/s-basic-definitions.html) for details)."
   ]
  },
  {
   "cell_type": "markdown",
   "metadata": {
    "slideshow": {
     "slide_type": "subslide"
    }
   },
   "source": [
    " **Example.** Let $X = \\{a,b,c\\}$, $Y = \\{0,1,2\\}$ and $Z = \\{\\alpha, \\beta, \\gamma\\}$.\n",
    " \n",
    " Let $R = \\{(a,1), (b,1), (c,1), (c,2)\\}$ and $S =\\{(0,\\alpha), (1,\\beta), (2,\\alpha)\\}$."
   ]
  },
  {
   "cell_type": "markdown",
   "metadata": {
    "slideshow": {
     "slide_type": "fragment"
    }
   },
   "source": [
    "**Q.** What is $S \\circ R$? "
   ]
  },
  {
   "cell_type": "code",
   "execution_count": 1,
   "metadata": {
    "slideshow": {
     "slide_type": "notes"
    }
   },
   "outputs": [],
   "source": [
    "R = Set([('a',1),('b',1),('c',1),('c',2)]); S = Set([(0,'alpha'),(1,'beta'),(2,'alpha')])"
   ]
  },
  {
   "cell_type": "code",
   "execution_count": 2,
   "metadata": {
    "slideshow": {
     "slide_type": "notes"
    }
   },
   "outputs": [],
   "source": [
    "def rel_comp(S,R):\n",
    "    '''\n",
    "    Return the composition SoR\n",
    "    '''\n",
    "    SoR = Set([(r,s) for (r,u) in R for (v,s) in S if u==v])\n",
    "    return(SoR)"
   ]
  },
  {
   "cell_type": "code",
   "execution_count": 3,
   "metadata": {
    "slideshow": {
     "slide_type": "notes"
    }
   },
   "outputs": [
    {
     "data": {
      "text/plain": [
       "{('c', 'beta'), ('a', 'beta'), ('b', 'beta'), ('c', 'alpha')}"
      ]
     },
     "execution_count": 3,
     "metadata": {},
     "output_type": "execute_result"
    }
   ],
   "source": [
    "rel_comp(S,R)"
   ]
  },
  {
   "cell_type": "markdown",
   "metadata": {
    "slideshow": {
     "slide_type": "slide"
    }
   },
   "source": [
    "## Identity and Inverse"
   ]
  },
  {
   "cell_type": "markdown",
   "metadata": {
    "slideshow": {
     "slide_type": "fragment"
    }
   },
   "source": [
    "The **identity relation** on $X$ (sometime called the **diagonal** of $X$ or the **equality** on $X$) is the relation\n",
    ", denoted by $1_X$ or $\\Delta_X$,\n",
    "\n",
    "$$\n",
    "\\{(a,a) \\colon a \\in X\\}.\n",
    "$$"
   ]
  },
  {
   "cell_type": "markdown",
   "metadata": {
    "slideshow": {
     "slide_type": "fragment"
    }
   },
   "source": [
    "The **inverse** of a relation $R$ from $X$ to $Y$ is the relation\n",
    "\n",
    "$$\n",
    "R^{-1} = \\{ (b,a) \\colon (a,b) \\in R \\}.\n",
    "$$"
   ]
  },
  {
   "cell_type": "markdown",
   "metadata": {
    "slideshow": {
     "slide_type": "fragment"
    }
   },
   "source": [
    "**Q.** How are $R \\circ R^{-1}$, $R^{-1}\\circ R$, $1_{\\dom R}$ and $1_{\\rng R}$ related?"
   ]
  },
  {
   "cell_type": "markdown",
   "metadata": {
    "slideshow": {
     "slide_type": "slide"
    }
   },
   "source": [
    "## Laws of Composition\n",
    "\n",
    "For $R \\subseteq X \\times Y, S \\subseteq Y \\times Z$ and $T \\subseteq Z \\times W$,\n",
    "\n",
    "* $T\\circ (S\\circ R) = (T \\circ S) \\circ R$          (associative)\n",
    "* $1_Y \\circ R = R$ and $R \\circ 1_X = R$            ($1_X,1_Y$ are identity of composition)"
   ]
  },
  {
   "cell_type": "markdown",
   "metadata": {
    "slideshow": {
     "slide_type": "slide"
    }
   },
   "source": [
    "# Properties of Relations\n",
    "\n",
    "Read this [section](http://faculty.uml.edu/klevasseur/ads/s-properties-of-relations.html) of ADS."
   ]
  },
  {
   "cell_type": "markdown",
   "metadata": {
    "slideshow": {
     "slide_type": "slide"
    }
   },
   "source": [
    "A relation $R$ on $X$ is"
   ]
  },
  {
   "cell_type": "markdown",
   "metadata": {
    "slideshow": {
     "slide_type": "fragment"
    }
   },
   "source": [
    "* **Reflexive** if $\\forall x \\in X$, $xRx$. That is, if $1_X \\subseteq R$."
   ]
  },
  {
   "cell_type": "markdown",
   "metadata": {
    "slideshow": {
     "slide_type": "fragment"
    }
   },
   "source": [
    "* **Symmetric** if $\\forall x,y \\in X$, $xRy$ if and only if $yRx$.\n",
    "  That is, if $R^{-1} = R$."
   ]
  },
  {
   "cell_type": "markdown",
   "metadata": {
    "slideshow": {
     "slide_type": "fragment"
    }
   },
   "source": [
    "* **Anti-symmetric** if $\\forall x,y \\in X$, ($xRy$ and $yRx$) $\\implies x = y$. That is if $R \\cap R^{-1} = 1_X$."
   ]
  },
  {
   "cell_type": "markdown",
   "metadata": {
    "slideshow": {
     "slide_type": "fragment"
    }
   },
   "source": [
    "* **Transitive** if $\\forall x,y,z \\in X,\\ xRy$ and $yRz \\implies xRz$. That is if $R \\circ R \\subseteq R$."
   ]
  },
  {
   "cell_type": "markdown",
   "metadata": {
    "slideshow": {
     "slide_type": "slide"
    }
   },
   "source": [
    "**Exercise.** Show that a relation that is both symmetric and anti-symmetric is simply the equality of its domain."
   ]
  },
  {
   "cell_type": "markdown",
   "metadata": {
    "slideshow": {
     "slide_type": "fragment"
    }
   },
   "source": [
    "Consequently, a relation on $X$ that is reflexive, symmetric and anti-symmetric must be just $1_X$ and hence transitive. "
   ]
  },
  {
   "cell_type": "markdown",
   "metadata": {
    "slideshow": {
     "slide_type": "fragment"
    }
   },
   "source": [
    "In other words, the properties reflexive, symmetric and anti-symmetric together *implies* transitive."
   ]
  },
  {
   "cell_type": "markdown",
   "metadata": {
    "slideshow": {
     "slide_type": "slide"
    }
   },
   "source": [
    "## Diagrams: Graphical Representations of Relations"
   ]
  },
  {
   "cell_type": "code",
   "execution_count": 25,
   "metadata": {
    "slideshow": {
     "slide_type": "notes"
    }
   },
   "outputs": [],
   "source": [
    "def rel_grph(domain,codomain,relation):\n",
    "    G = DiGraph()\n",
    "    pre_pos=graphs.CompleteBipartiteGraph(len(domain),len(codomain)).get_pos(); pos={}\n",
    "    for (i,v) in enumerate(domain+codomain):\n",
    "        G.add_vertex(v)\n",
    "        pos[v]=pre_pos[i]\n",
    "    G.add_edges(relation)\n",
    "    return G, pos"
   ]
  },
  {
   "cell_type": "markdown",
   "metadata": {
    "slideshow": {
     "slide_type": "slide"
    }
   },
   "source": [
    "A relation from $X$ to $Y$ can be represented by a directed graph (or diagram) with $X$ as one part and $Y$ as the other with arrows coming from elements of $X$ to elements of $Y$."
   ]
  },
  {
   "cell_type": "code",
   "execution_count": 26,
   "metadata": {
    "slideshow": {
     "slide_type": "fragment"
    }
   },
   "outputs": [
    {
     "data": {
      "image/png": "[encoded data removed]",
      "text/plain": [
       "Graphics object consisting of 11 graphics primitives"
      ]
     },
     "execution_count": 26,
     "metadata": {},
     "output_type": "execute_result"
    }
   ],
   "source": [
    "RG, position = rel_grph([0,2,4],[1,3,5],[(0,1),(0,3),(2,3),(2,5)]); \n",
    "RG.plot(pos=position, title='A relation from {0,2,4} to {1,3,5}')"
   ]
  },
  {
   "cell_type": "markdown",
   "metadata": {
    "slideshow": {
     "slide_type": "fragment"
    }
   },
   "source": [
    "It is clear that any such directed graph (diagram) determines a unique a relation from $X$ to $Y$. "
   ]
  },
  {
   "cell_type": "code",
   "execution_count": 29,
   "metadata": {
    "slideshow": {
     "slide_type": "notes"
    }
   },
   "outputs": [],
   "source": [
    "D = [0,2,4]; C = [1,3,5,7]; R = [(0,1),(0,5),(4,3),(2,3)]; \n",
    "RG2, p2 = rel_grph(C,D,R)"
   ]
  },
  {
   "cell_type": "markdown",
   "metadata": {
    "slideshow": {
     "slide_type": "slide"
    }
   },
   "source": [
    "**Exercise.** Write down the relation corresponding to the following diagram."
   ]
  },
  {
   "cell_type": "code",
   "execution_count": 30,
   "metadata": {},
   "outputs": [
    {
     "data": {
      "image/png": "[encoded data removed]",
      "text/plain": [
       "Graphics object consisting of 12 graphics primitives"
      ]
     },
     "execution_count": 30,
     "metadata": {},
     "output_type": "execute_result"
    }
   ],
   "source": [
    "RG2.plot(pos=p2)"
   ]
  },
  {
   "cell_type": "markdown",
   "metadata": {
    "slideshow": {
     "slide_type": "slide"
    }
   },
   "source": [
    "A relation on $X$ can be represented simply by a directed graph with elements of $X$ as vertices."
   ]
  },
  {
   "cell_type": "markdown",
   "metadata": {
    "slideshow": {
     "slide_type": "fragment"
    }
   },
   "source": [
    "See this [page](http://faculty.uml.edu/klevasseur/ads/s-graphs-of-relations-on-a-set.html) for details."
   ]
  },
  {
   "cell_type": "code",
   "execution_count": 32,
   "metadata": {
    "slideshow": {
     "slide_type": "slide"
    }
   },
   "outputs": [
    {
     "data": {
      "image/png": "[encoded data removed]",
      "text/plain": [
       "Digraph on 5 vertices"
      ]
     },
     "execution_count": 32,
     "metadata": {},
     "output_type": "execute_result"
    }
   ],
   "source": [
    "digraphs.RandomDirectedGNM(5,10)"
   ]
  },
  {
   "cell_type": "markdown",
   "metadata": {
    "slideshow": {
     "slide_type": "fragment"
    }
   },
   "source": [
    "**Exercise** Write down the relation on $\\{0,1,2,3,4\\}$ depicted by the above diagram."
   ]
  },
  {
   "cell_type": "markdown",
   "metadata": {
    "slideshow": {
     "slide_type": "skip"
    }
   },
   "source": [
    "Define refinement of relations here the next time.\n",
    "\n",
    "Let $R'$ and $R$ be two relations on $X$ with the same domain. We say that $R'$ **refines** $R$ if $R' \\subseteq R$. In other words, $R'$ refines $R$ if $a$,$b$ are $R$-related whenever they are $R'$-related.\n",
    "\n",
    "**Ex.** Give a relation on $\\{0,1,2,3\\}$ that refines $\\{(0,0),(0,2),(1,3),(3,2),(3,1)\\}$."
   ]
  }
 ],
 "metadata": {
  "celltoolbar": "Slideshow",
  "kernelspec": {
   "display_name": "SageMath 9.1",
   "language": "sage",
   "name": "sagemath"
  },
  "language_info": {
   "codemirror_mode": {
    "name": "ipython",
    "version": 3
   },
   "file_extension": ".py",
   "mimetype": "text/x-python",
   "name": "python",
   "nbconvert_exporter": "python",
   "pygments_lexer": "ipython3",
   "version": "3.7.3"
  },
  "toc": {
   "base_numbering": 1,
   "nav_menu": {},
   "number_sections": false,
   "sideBar": true,
   "skip_h1_title": false,
   "title_cell": "Table of Contents",
   "title_sidebar": "Contents",
   "toc_cell": false,
   "toc_position": {},
   "toc_section_display": true,
   "toc_window_display": false
  }
 },
 "nbformat": 4,
 "nbformat_minor": 4
}
