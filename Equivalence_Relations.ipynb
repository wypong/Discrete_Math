{
 "cells": [
  {
   "cell_type": "markdown",
   "metadata": {
    "slideshow": {
     "slide_type": "notes"
    }
   },
   "source": [
    "$\\newcommand{\\nc}{\\newcommand}$\n",
    "$\\nc{\\Nn}{\\mathbb{N}}$\n",
    "$\\nc{\\Qq}{\\mathbb{Q}}$\n",
    "$\\nc{\\Zz}{\\mathbb{Z}}$\n",
    "$\\nc{\\Rr}{\\mathbb{R}}$\n",
    "$\\nc{\\cP}{\\mathcal{P}}$\n",
    "$\\nc{\\DMO}{\\DeclareMathOperator}$\n",
    "$\\DMO{\\dom}{dom}$\n",
    "$\\DMO{\\rng}{rng}$"
   ]
  },
  {
   "cell_type": "markdown",
   "metadata": {
    "slideshow": {
     "slide_type": "slide"
    }
   },
   "source": [
    "# Equivalence Relations"
   ]
  },
  {
   "cell_type": "markdown",
   "metadata": {
    "slideshow": {
     "slide_type": "slide"
    }
   },
   "source": [
    "Equivalence relations are ubiquitous in mathematics. (see [ADS](http://faculty.uml.edu/klevasseur/ads/s-properties-of-relations.html))"
   ]
  },
  {
   "cell_type": "markdown",
   "metadata": {
    "slideshow": {
     "slide_type": "fragment"
    }
   },
   "source": [
    "In mathematics, as in real life, we seldom care about whether two objects are equal as sets. "
   ]
  },
  {
   "cell_type": "markdown",
   "metadata": {
    "slideshow": {
     "slide_type": "fragment"
    }
   },
   "source": [
    "Equivalence relation can be viewed a generalization of equality.\n",
    "\n",
    "We only care about whether two objects are \"equivalent\" (or are equal up to some \"equivalence\")."
   ]
  },
  {
   "cell_type": "markdown",
   "metadata": {
    "slideshow": {
     "slide_type": "slide"
    }
   },
   "source": [
    "An **equivalence relation** is a relation that is *reflexive, symmetric and transitive*."
   ]
  },
  {
   "cell_type": "markdown",
   "metadata": {
    "slideshow": {
     "slide_type": "fragment"
    }
   },
   "source": [
    "Let $E$ be an equivalence relation on $X$. We say that $x, x' \\in X$ are **$E$-equivalence** if $(x,x') \\in E$."
   ]
  },
  {
   "cell_type": "markdown",
   "metadata": {
    "slideshow": {
     "slide_type": "fragment"
    }
   },
   "source": [
    "### Examples\n",
    "\n",
    "1. The equality $=_X$ on $X$ (a.k.a $1_X$ the identity relation on $X$).\n",
    "\n",
    "1. The relation $X \\times X$.\n",
    "\n",
    "1. Let $f$ be a function with domain $X$. The relation $\\equiv_f$ defined by $x \\equiv_f x'$ if and only if $f(x) = f(x')$.\n",
    "\n",
    "1. Fix $n \\in \\Nn$. The relation $\\equiv_n$ on $\\Zz$ defined by $a \\equiv_n b$ if and only \n",
    "   $a-b$ is multiple of $n$. \n",
    "   This relation is known as **congruence modulo $n$** and $a \\equiv_n b$ is often denoted by $a \\equiv b \\pmod{n}$"
   ]
  },
  {
   "cell_type": "markdown",
   "metadata": {
    "slideshow": {
     "slide_type": "slide"
    }
   },
   "source": [
    "## Refinements"
   ]
  },
  {
   "cell_type": "markdown",
   "metadata": {
    "slideshow": {
     "slide_type": "fragment"
    }
   },
   "source": [
    "Let $E,E'$ be equivalence relations on $X$. $E'$ is **finer** than $E$ (or $E'$ **refines** $E$, or $E'$ is a **refinement** of $E$) if $E' \\subseteq E$."
   ]
  },
  {
   "cell_type": "markdown",
   "metadata": {
    "slideshow": {
     "slide_type": "subslide"
    }
   },
   "source": [
    "In other words, $E'$ is finer than $E$ means any two elements that are equivalent with respect to $E'$ must also be equivalent with respect to $E$. "
   ]
  },
  {
   "cell_type": "markdown",
   "metadata": {
    "slideshow": {
     "slide_type": "fragment"
    }
   },
   "source": [
    "By definition, every equivalence relation on $X$ contains $=_X$ (which is an equivalence relation on $X$ itself). Hence, $=_X$ is the *finest equivalence relation* on $X$. "
   ]
  },
  {
   "cell_type": "markdown",
   "metadata": {
    "slideshow": {
     "slide_type": "fragment"
    }
   },
   "source": [
    "Also, it is clear that $X \\times X$ is the *coarsest equivalence relation* on $X$."
   ]
  },
  {
   "cell_type": "markdown",
   "metadata": {
    "slideshow": {
     "slide_type": "fragment"
    }
   },
   "source": [
    "**Exercise** \n",
    "\n",
    "* Describe the relations $\\equiv_0$ and $\\equiv_1$.\n",
    "\n",
    "* Show that $\\equiv_n$ refines $\\equiv_m$ if and only if $m$ divides $n$. (Compare $\\equiv_2$ with $\\equiv_6$ to convince yourself first that the statement is true.)"
   ]
  },
  {
   "cell_type": "markdown",
   "metadata": {
    "slideshow": {
     "slide_type": "slide"
    }
   },
   "source": [
    "## Equivalence Classes"
   ]
  },
  {
   "cell_type": "markdown",
   "metadata": {
    "slideshow": {
     "slide_type": "fragment"
    }
   },
   "source": [
    "Let $E$ be an equivalence relation on $X$ and $x \\in X$. The **E-equivalence class of $x$** is the set of elements of $X$ that are $E$-equivalent to $x$. The $E$-equivalence class of $x$ is often denoted by $[x]_E$ or simply by $[x]$ if $E$ is understood."
   ]
  },
  {
   "cell_type": "markdown",
   "metadata": {
    "slideshow": {
     "slide_type": "fragment"
    }
   },
   "source": [
    "That is,\n",
    "$$\n",
    "[x]_E = \\{x' \\in X \\colon xEx'\\}\n",
    "$$"
   ]
  },
  {
   "cell_type": "markdown",
   "metadata": {
    "slideshow": {
     "slide_type": "subslide"
    }
   },
   "source": [
    "Denoted by $X/E$ the set of $E$-equivalence classes. We call $X/E$ the **quotient (set) of $X$ by $E$**."
   ]
  },
  {
   "cell_type": "markdown",
   "metadata": {
    "slideshow": {
     "slide_type": "fragment"
    }
   },
   "source": [
    "**Exercise**\n",
    "\n",
    "* Let $[x]_n$ be the $\\equiv_n$-equivalence class of $x$. Descibe $[0]_3, [1]_3, [2]_3$ and $[-2]_3$.\n",
    "\n",
    "* Check that $\\Zz/\\equiv_3 = \\{[0]_3, [1]_3, [2]_3\\}$.\n",
    "\n",
    "* Let $f$ be a function on $X$ and $x \\in X$. Let $[x]_f$ be the $\\equiv_f$ equivalence class of $x$. \n",
    "Describe $[x]_f$ using of $f$ and $f^{-1}$."
   ]
  },
  {
   "cell_type": "markdown",
   "metadata": {
    "slideshow": {
     "slide_type": "slide"
    }
   },
   "source": [
    "Unless otherwise stated, $E$ is an equivalence relation on $X$.\n",
    "\n",
    "**Proposition 1.** $xEx'$ if and only if $[x]_E =[x']_E$.\n",
    "\n",
    "In other words, two elements of $X$ are $E$-equivalent if and only if their $E$-equivalence classes are the same."
   ]
  },
  {
   "cell_type": "markdown",
   "metadata": {
    "slideshow": {
     "slide_type": "slide"
    }
   },
   "source": [
    "A **partition** of $X$ is a collection $\\mathcal{P}$ of *non-empty subsets* of $X$ such that \n",
    "\n",
    "1. The elements of $\\mathcal{P}$ are pairwise disjoint subsets of $X$ and;\n",
    "\n",
    "1. The union of the elements of $\\mathcal{P}$ is $X$.\n",
    "\n",
    "The subsets in $\\cP$ are called **parts**."
   ]
  },
  {
   "cell_type": "markdown",
   "metadata": {
    "slideshow": {
     "slide_type": "subslide"
    }
   },
   "source": [
    "**Exercise.** Which of the following are partitions of $\\{1,2,3,...,9\\}$, why or why not?\n",
    "\n",
    "a. $\\{ \\{1,3,5\\},\\{2,7,8\\}\\}$\n",
    "\n",
    "b. $\\{\\{1\\},\\{2,3\\},\\{4,5,9\\},\\{6,7,8\\}\\}$.\n",
    "\n",
    "c. $\\{\\emptyset, \\{1,2,3\\},\\{4,8,9\\},\\{5,6,7\\}\\}$.\n",
    "\n",
    "d. $\\{\\{2,3,5,7\\},\\{1,9\\},\\{2,4,6,8\\}\\}$.\n",
    "\n",
    "e. $\\{1,2,3,4,5,6,7,8,9\\}$.\n",
    "\n",
    "f. $\\{\\{1,2,3,4,5,6,7,8,9\\}\\}$."
   ]
  },
  {
   "cell_type": "markdown",
   "metadata": {
    "slideshow": {
     "slide_type": "slide"
    }
   },
   "source": [
    "**Proposition 2.** $X/E$ is a partition of $X$ for any equivalence relation $E$ on $X$."
   ]
  },
  {
   "cell_type": "markdown",
   "metadata": {
    "slideshow": {
     "slide_type": "fragment"
    }
   },
   "source": [
    "Conversely, every partition $\\mathcal{P}$ of $X$ gives rise to a relation $\\equiv_\\cP$ on $X$:\n",
    "$$\n",
    "x \\equiv_{\\cP} x' \\iff x,x'\\ \\text{belongs the same part in}\\ \\cP\n",
    "$$"
   ]
  },
  {
   "cell_type": "markdown",
   "metadata": {
    "slideshow": {
     "slide_type": "fragment"
    }
   },
   "source": [
    "**Exercise.** \n",
    "\n",
    "* Check that $\\equiv_{\\cP}$ is an equivalence relation on $X$.\n",
    "\n",
    "* Find the equivalence relations corresponding to the partitions of $\\{1,2,\\ldots, 9\\}$ in the previous exercise.\n",
    "\n",
    "* Do the exercises in [ADS](http://faculty.uml.edu/klevasseur/ads/s-properties-of-relations.html)"
   ]
  },
  {
   "cell_type": "markdown",
   "metadata": {
    "slideshow": {
     "slide_type": "fragment"
    }
   },
   "source": [
    "The number of partitions on a set of size $n$ is $B_n$ the $n$-th [Bell number](https://en.wikipedia.org/wiki/Bell_number)"
   ]
  },
  {
   "cell_type": "markdown",
   "metadata": {
    "slideshow": {
     "slide_type": "slide"
    }
   },
   "source": [
    "Fix a set $X$. Let $\\equiv_{C}$ be the relation on the collection of functions with domain $X$ given by $f \\equiv_C g$ if there is a bijection $s$ from the codomain of $f$ to the codomain of $g$ such that $s\\circ f = g$."
   ]
  },
  {
   "cell_type": "markdown",
   "metadata": {
    "slideshow": {
     "slide_type": "fragment"
    }
   },
   "source": [
    "**Ex.** Give a two distinct functions with domain $X = \\{0,1,2\\}$ but $f \\equiv_C g$."
   ]
  },
  {
   "cell_type": "markdown",
   "metadata": {
    "slideshow": {
     "slide_type": "fragment"
    }
   },
   "source": [
    "**Ex,** Check that $\\equiv_C$ is an equivalence relation on the class of functions with domain $X$."
   ]
  },
  {
   "cell_type": "markdown",
   "metadata": {
    "slideshow": {
     "slide_type": "slide"
    }
   },
   "source": [
    "There are natural 1-to-1 correspondences between the following three types of objects:\n",
    "\n",
    "1) Equivalence relations on $X$ (with $\\alpha$ equivalence classes)\n",
    "\n",
    "2) Partitions of $X$ (with $\\alpha$ parts)\n",
    "\n",
    "3) Surjections with domain $X$ up to $\\equiv_C$ equivalence (with codomain of card $\\alpha$.)"
   ]
  },
  {
   "cell_type": "markdown",
   "metadata": {
    "slideshow": {
     "slide_type": "fragment"
    }
   },
   "source": [
    "We will not go into details to prove this but give a sketch of the proof."
   ]
  },
  {
   "cell_type": "markdown",
   "metadata": {
    "slideshow": {
     "slide_type": "subslide"
    }
   },
   "source": [
    "We have already seen the correspondence between equivalence relations on $X$ and partitions of $X$."
   ]
  },
  {
   "cell_type": "markdown",
   "metadata": {
    "slideshow": {
     "slide_type": "fragment"
    }
   },
   "source": [
    "An equivalence relation $E$ on $X$ corresponds to the $\\equiv_C$-class of the canonical surjection $\\pi \\colon X \\to X/E$."
   ]
  },
  {
   "cell_type": "markdown",
   "metadata": {
    "slideshow": {
     "slide_type": "fragment"
    }
   },
   "source": [
    "Conversely, given a sujection $f$ with domain $X$, the set \n",
    "$$ F_f :=\\{ f^{-1}(y) \\colon y \\in \\text{ codomain of } f\\}$$ \n",
    "is a partition of $X$."
   ]
  },
  {
   "cell_type": "markdown",
   "metadata": {
    "slideshow": {
     "slide_type": "fragment"
    }
   },
   "source": [
    "Also, one can check that $F_f = F_g$ if and only if $f \\equiv_C g$."
   ]
  }
 ],
 "metadata": {
  "celltoolbar": "Slideshow",
  "kernelspec": {
   "display_name": "SageMath 9.1",
   "language": "sage",
   "name": "sagemath"
  },
  "language_info": {
   "codemirror_mode": {
    "name": "ipython",
    "version": 3
   },
   "file_extension": ".py",
   "mimetype": "text/x-python",
   "name": "python",
   "nbconvert_exporter": "python",
   "pygments_lexer": "ipython3",
   "version": "3.7.3"
  },
  "toc": {
   "base_numbering": 1,
   "nav_menu": {},
   "number_sections": false,
   "sideBar": true,
   "skip_h1_title": false,
   "title_cell": "Table of Contents",
   "title_sidebar": "Contents",
   "toc_cell": false,
   "toc_position": {},
   "toc_section_display": true,
   "toc_window_display": false
  }
 },
 "nbformat": 4,
 "nbformat_minor": 4
}
