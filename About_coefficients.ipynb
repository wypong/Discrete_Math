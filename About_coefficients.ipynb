{
 "cells": [
  {
   "cell_type": "markdown",
   "metadata": {
    "slideshow": {
     "slide_type": "-"
    }
   },
   "source": [
    "# Coefficients of Polynomials/Series"
   ]
  },
  {
   "cell_type": "markdown",
   "metadata": {},
   "source": [
    " We would like to find the coefficient of a power of $x$ in a polynomial/series in $x$."
   ]
  },
  {
   "cell_type": "markdown",
   "metadata": {},
   "source": [
    "The importance of this will be clear when we study *generating function*"
   ]
  },
  {
   "cell_type": "markdown",
   "metadata": {},
   "source": [
    "First a notation: let $p(x)$ be a polynomial (or a formal power series) in $x$, denote by $[x^k]p(x)$ the coefficient of $x^k$ in $p(x)$."
   ]
  },
  {
   "cell_type": "markdown",
   "metadata": {},
   "source": [
    "That is, if $p(x) = a_0 + a_1x + a_2x^2 + ...+a_nx^k = \\sum_{i=0}^n a_ix^i$, then $[x_k]p(x) = a_k$."
   ]
  },
  {
   "cell_type": "markdown",
   "metadata": {},
   "source": [
    "More generally, if $p(x) = a_0 + a_1x +a_2x^2 + a_ix^i + ...$ is a formal power series in $x$, then $[x^k]p(x) = a_k$."
   ]
  },
  {
   "cell_type": "markdown",
   "metadata": {},
   "source": [
    "For example, $p(x) = x^4 - 3x^2 + 2x -1$. Then \n",
    "\n",
    "$[x^0]p(x) = -1 \\qquad [x]p(x) = 2 \\qquad [x^2]p(x) = -3 \\qquad [x^3]p(x) = 0$ and $[x^4]p(x) = 1$."
   ]
  },
  {
   "cell_type": "markdown",
   "metadata": {},
   "source": [
    "Here is an example involving formal power series (fps)\n",
    "\n",
    "$p(x) = 1 + x + x^2 + \\cdots = \\sum_{i\\ge 0} x^i$ \"=\" $\\dfrac{1}{1-x}$"
   ]
  },
  {
   "cell_type": "markdown",
   "metadata": {},
   "source": [
    "Then $[x^k]p(x) = 1$ for all $k$."
   ]
  },
  {
   "cell_type": "markdown",
   "metadata": {},
   "source": [
    "Another common example involving fps is the expansion of the exponential function:\n",
    "\n",
    "$$ e^x = 1 + x + \\dfrac{x^2}{2!} + \\dfrac{x^3}{3!} + \\cdots = \\sum_{n \\ge 0} \\frac{x^n}{n!}$$"
   ]
  },
  {
   "cell_type": "markdown",
   "metadata": {},
   "source": [
    "then $[x^k](e^{x}) = \\dfrac{x^k}{k!}$."
   ]
  },
  {
   "cell_type": "markdown",
   "metadata": {},
   "source": [
    "Here are couple general rules about the operator $[x^k]$:\n",
    "\n",
    "1) $[x^k](p(x) + q(x)) = [x^k]p(x) + [x^k]q(x)$.\n",
    "\n",
    "2) $[x^k](cp(x)) = c[x^k]p(x)$ where $c$ is a constant.\n",
    "\n",
    "3) $[x^k](x^mp(x)) = [x^{k-m}]p(x)$"
   ]
  },
  {
   "cell_type": "markdown",
   "metadata": {},
   "source": [
    "The first two rules are clear, let's say a few words about the third rule.\n",
    "\n",
    "For example, ask yourself what is the coefficient of $x^5$ in $x^3(x^4 - 3x^2 + 2x -1)$? "
   ]
  },
  {
   "cell_type": "markdown",
   "metadata": {},
   "source": [
    "Well, one way to do it is multiplying out the product first,\n",
    "$$\n",
    "x^3(x^4 - 3x^2 + 2x -1) = x^7 - 3x^5 +2x^4 -x^3\n",
    "$$\n",
    "so the coefficient of $x^5$ in the product $-3$."
   ]
  },
  {
   "cell_type": "markdown",
   "metadata": {},
   "source": [
    "But this is clearly an overkill if all we care is the coefficient of $x^5$. \n",
    "\n",
    "So a better way of doing this is to ask which term in $p(x) = x^4 - 3x^2 + 2x -1$ will give a $x^5$ term in the product. "
   ]
  },
  {
   "cell_type": "markdown",
   "metadata": {},
   "source": [
    "Well, since we are going to multiply it by $x^3$, so the $x^2$ term in $p(x)$ will becomes the $x^5$ term in the product. Thus $[x^5](x^3p(x)) = [x^2]p(x) = [x^{5-3}]p(x)$ "
   ]
  },
  {
   "cell_type": "markdown",
   "metadata": {},
   "source": [
    "Now nothing special about our choice in this example, hence we conclude rule 3) in general."
   ]
  },
  {
   "cell_type": "markdown",
   "metadata": {},
   "source": [
    "How are all these helping us in answering a question (Question 9, Binomial Coefficients) like:\n",
    "\n",
    "What is the coefficient of $x^{11}$ in the expansion of $(x+2)^{17}+x^4(x+3)^{18}$?"
   ]
  },
  {
   "cell_type": "markdown",
   "metadata": {},
   "source": [
    "To do this, we use the binomial theorem:\n",
    "\n",
    "$$(x+y)^n = \\sum_{i =0}^m \\binom{n}{i}x^iy^{n-i}$$\n",
    "\n",
    "which tells say that $\\displaystyle [x^k](x+y)^n = \\binom{n}{k}y^{n-k}$."
   ]
  },
  {
   "cell_type": "markdown",
   "metadata": {},
   "source": [
    "Now we can use the rules and the binomial theorem to solve the question:"
   ]
  },
  {
   "cell_type": "markdown",
   "metadata": {},
   "source": [
    "$$\n",
    "\\begin{align*}\n",
    "[x^{11}]((x+2)^{17}+x^4(x+3)^{18}) &= [x^{11}](x+2)^{17}+ [x^{11}](x^4(x+3)^{18}) \\qquad \\text{Rule (1)}\\\\\n",
    "& = [x^{11}](x+2)^{17} + [x^{11-4}](x+3)^{18} \\qquad \\text{Rule (3)} \\\\\n",
    "& = [x^{11}](x+2)^{17} + [x^{7}](x+3)^{18} \\\\\n",
    "& = 2^{17-11}\\binom{17}{11} + 3^{18-7}\\binom{18}{7} \\qquad \\text{Binomial Theorem} \\\\\n",
    "& = 2^6\\binom{17}{11} + 3^{11}\\binom{18}{7}\n",
    "\\end{align*}\n",
    "$$"
   ]
  }
 ],
 "metadata": {
  "kernelspec": {
   "display_name": "SageMath 9.2",
   "language": "sage",
   "name": "sagemath"
  },
  "language_info": {
   "codemirror_mode": {
    "name": "ipython",
    "version": 3
   },
   "file_extension": ".py",
   "mimetype": "text/x-python",
   "name": "python",
   "nbconvert_exporter": "python",
   "pygments_lexer": "ipython3",
   "version": "3.8.5"
  },
  "toc": {
   "base_numbering": 1,
   "nav_menu": {},
   "number_sections": false,
   "sideBar": true,
   "skip_h1_title": false,
   "title_cell": "Table of Contents",
   "title_sidebar": "Contents",
   "toc_cell": false,
   "toc_position": {},
   "toc_section_display": true,
   "toc_window_display": false
  }
 },
 "nbformat": 4,
 "nbformat_minor": 4
}
