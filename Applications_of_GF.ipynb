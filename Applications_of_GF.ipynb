{
 "cells": [
  {
   "cell_type": "markdown",
   "metadata": {
    "slideshow": {
     "slide_type": "-"
    }
   },
   "source": [
    "# Applications of Generating Functions"
   ]
  },
  {
   "cell_type": "markdown",
   "metadata": {},
   "source": [
    "$\\newcommand{\\ds}{\\displaystyle}$"
   ]
  },
  {
   "cell_type": "markdown",
   "metadata": {},
   "source": [
    "**Q1** Solve the recurrence relation $a_n=a_{n−1}+2^n$ with $a_0=0$."
   ]
  },
  {
   "cell_type": "markdown",
   "metadata": {},
   "source": [
    "First, we are going to create the generating function $A(x) =a_0 +a_1x + a_2x^2 + \\cdots $ of the sequence $(a_n)$ by multiplying $x^n$ to the recurrence:\n",
    "\n",
    "$$a_n x^n = a_{n-1}x^{n} + 2^nx^n \\quad (n \\ge 1)$$"
   ]
  },
  {
   "cell_type": "markdown",
   "metadata": {},
   "source": [
    "Then sum over $n \\ge 0$, we get\n",
    "\n",
    "$$\n",
    "\\begin{align*}\n",
    "    a_1x + a_2x^2 + a_3x^3 + \\cdots &= (a_0x + a_1x^2 + a_2x^3 + \\cdots ) + (2x + (2x)^2 + (2x)^3 + \\cdots) \\\\\n",
    "    A(x) - a_0 &= x A(x) + \\frac{2x}{1-2x} \\\\\n",
    "\\end{align*}    \n",
    "$$"
   ]
  },
  {
   "cell_type": "markdown",
   "metadata": {},
   "source": [
    "Since $a_0 = 0$, solving $A(x)$ from the equation above, we get $A(x) = \\dfrac{2x}{(1-x)(1-2x)}$."
   ]
  },
  {
   "cell_type": "markdown",
   "metadata": {},
   "source": [
    "Next, we are going to $a_n$ by extracting the coefficient of $x^n$ from $A(x)$. To do this we are going to use **partial fraction decomposition**: write "
   ]
  },
  {
   "cell_type": "markdown",
   "metadata": {},
   "source": [
    "$$ \\frac{1}{(1-x)(1-2x)} \\equiv \\frac{c_1}{1-x} + \\frac{c_2}{1-2x}$$."
   ]
  },
  {
   "cell_type": "markdown",
   "metadata": {},
   "source": [
    "Muliplying $(1-x)(1-2x)$ on both sides to clear the denominator and we get,\n",
    "\n",
    "$$ 1 \\equiv c_1(1-2x) + c_2(1-x) $$."
   ]
  },
  {
   "cell_type": "markdown",
   "metadata": {},
   "source": [
    "To find $c_1$, set $x=1$ and we get $1 = c_1(1-2) + c_2(1-1) = -c_1$. So $c_1 = -1$."
   ]
  },
  {
   "cell_type": "markdown",
   "metadata": {},
   "source": [
    "To find $c_2$, set $x=1/2$ and we have $1 = c_1(1-2(1/2)) + c_2(1-1/2) = (1/2)c_2$. Therefore, $c_2 = 2$."
   ]
  },
  {
   "cell_type": "markdown",
   "metadata": {},
   "source": [
    "Thus,\n",
    "$$\n",
    "\\begin{align*}\n",
    "   A(x) = \\frac{2x}{(1-x)(1-2x)} &= 2x\\left(\\frac{2}{1-2x} - \\frac{1}{1-x}\\right)\n",
    "\\end{align*}\n",
    "$$"
   ]
  },
  {
   "cell_type": "markdown",
   "metadata": {},
   "source": [
    "Therefore, \n",
    "\n",
    "\\begin{align*}\n",
    "a_n = [x^n]A(x) &= [x^n]2x\\left(\\frac{2}{1-2x} - \\frac{1}{1-x}\\right)\\\\ \n",
    "     &= 2\\left(2[x^{n-1}]\\frac{1}{1-2x} - [x^{n-1}]\\frac{1}{1-x}\\right) \\\\\n",
    "     & = 2(2(2^{n-1}) -1 ) = 2^{n+1} -2.\n",
    "\\end{align*}"
   ]
  },
  {
   "cell_type": "markdown",
   "metadata": {},
   "source": [
    "**Q2.** Find the solution to the recurrence relation $a_n=a_{n−1}+30a_{n−2}$ with initial terms $a_0=2$ and $a_1=1$"
   ]
  },
  {
   "cell_type": "markdown",
   "metadata": {},
   "source": [
    "Again multiply $x^n$ to both sides the sum over $n \\ge 2$, we get\n",
    "\n",
    "$$ A(x)-a_0-a_1x = x(A(x)-a_0) + 30x^2A(x)$$"
   ]
  },
  {
   "cell_type": "markdown",
   "metadata": {},
   "source": [
    "Using the initial conditions, we get $A(x) -2 -x = xA(x)-2x + 30x^2A(x)$. Solving for $A(x)$, we get\n",
    "\n",
    "$$A(x) = \\frac{2-x}{(1-x-30x^2)} = \\frac{2-x}{(1-6x)(1+5x)} = \\frac{1}{1-6x} + \\frac{1}{1+5x}$$"
   ]
  },
  {
   "cell_type": "code",
   "execution_count": 5,
   "metadata": {},
   "outputs": [],
   "source": [
    "A = (2-x)/(1-x-30*x^2)"
   ]
  },
  {
   "cell_type": "code",
   "execution_count": 6,
   "metadata": {},
   "outputs": [
    {
     "data": {
      "text/html": [
       "<html><script type=\"math/tex; mode=display\">\\newcommand{\\Bold}[1]{\\mathbf{#1}}-\\frac{1}{6 \\, x - 1} + \\frac{1}{5 \\, x + 1}</script></html>"
      ],
      "text/latex": [
       "\\begin{math}\n",
       "\\newcommand{\\Bold}[1]{\\mathbf{#1}}-\\frac{1}{6 \\, x - 1} + \\frac{1}{5 \\, x + 1}\n",
       "\\end{math}"
      ],
      "text/plain": [
       "-1/(6*x - 1) + 1/(5*x + 1)"
      ]
     },
     "execution_count": 6,
     "metadata": {},
     "output_type": "execute_result"
    }
   ],
   "source": [
    "%display latex\n",
    "A.partial_fraction()"
   ]
  },
  {
   "cell_type": "markdown",
   "metadata": {},
   "source": [
    "Thus, $a_n = [x^n]A(x) = [x^n]\\dfrac{1}{1-6x} + [x^n]\\dfrac{1}{1+5x} = 6^n + (-5)^n = 6^n +(-1)^n5^n.$"
   ]
  },
  {
   "cell_type": "markdown",
   "metadata": {},
   "source": [
    "**Q3.** Find the solution to the recurrence relation $a_n=−2a_{n−1}+8a_{n−2}$ with initial terms $a_0=2$ and $a_1=−2$."
   ]
  },
  {
   "cell_type": "markdown",
   "metadata": {},
   "source": [
    "**Ans.** Mul"
   ]
  },
  {
   "cell_type": "markdown",
   "metadata": {},
   "source": [
    "**Q6.** Find the solution to the following recurrence relation: $a_n=−8a_{n−1}$ for $n \\ge 2$ with the initial condition $a_1=14$. "
   ]
  },
  {
   "cell_type": "markdown",
   "metadata": {},
   "source": [
    "**Ans** This is a geometric sequence and hence $a_n = 14(-8)^{n-1} = (-1)^{n-1}14(8)^{n-1}$ for $n \\ge 2$."
   ]
  }
 ],
 "metadata": {
  "kernelspec": {
   "display_name": "SageMath 9.2",
   "language": "sage",
   "name": "sagemath"
  },
  "language_info": {
   "codemirror_mode": {
    "name": "ipython",
    "version": 3
   },
   "file_extension": ".py",
   "mimetype": "text/x-python",
   "name": "python",
   "nbconvert_exporter": "python",
   "pygments_lexer": "ipython3",
   "version": "3.8.5"
  },
  "toc": {
   "base_numbering": 1,
   "nav_menu": {},
   "number_sections": false,
   "sideBar": true,
   "skip_h1_title": false,
   "title_cell": "Table of Contents",
   "title_sidebar": "Contents",
   "toc_cell": false,
   "toc_position": {},
   "toc_section_display": true,
   "toc_window_display": false
  }
 },
 "nbformat": 4,
 "nbformat_minor": 4
}
